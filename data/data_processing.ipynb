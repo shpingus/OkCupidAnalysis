{
 "cells": [
  {
   "metadata": {},
   "cell_type": "markdown",
   "source": "# Imports",
   "id": "ed9b041cb301ad7c"
  },
  {
   "metadata": {
    "ExecuteTime": {
     "end_time": "2025-09-12T15:33:06.295964Z",
     "start_time": "2025-09-12T15:33:05.919946Z"
    }
   },
   "cell_type": "code",
   "source": [
    "import pandas as pd\n",
    "\n",
    "from llm_guesser.llm_predictor import LLMPredictor"
   ],
   "id": "95d4d55188166427",
   "outputs": [
    {
     "name": "stderr",
     "output_type": "stream",
     "text": [
      "/Users/david/opt/anaconda3/envs/NeedInDatastack/lib/python3.12/site-packages/requests/__init__.py:86: RequestsDependencyWarning: Unable to find acceptable character detection dependency (chardet or charset_normalizer).\n",
      "  warnings.warn(\n",
      "/Users/david/opt/anaconda3/envs/NeedInDatastack/lib/python3.12/site-packages/tqdm/auto.py:21: TqdmWarning: IProgress not found. Please update jupyter and ipywidgets. See https://ipywidgets.readthedocs.io/en/stable/user_install.html\n",
      "  from .autonotebook import tqdm as notebook_tqdm\n"
     ]
    }
   ],
   "execution_count": 1
  },
  {
   "metadata": {},
   "cell_type": "markdown",
   "source": "# Gathering Relevant Questions",
   "id": "c39a49203fe7aee"
  },
  {
   "metadata": {},
   "cell_type": "markdown",
   "source": "## Getting Data from CSVs",
   "id": "9fcf6fc14d5d0d1a"
  },
  {
   "metadata": {
    "ExecuteTime": {
     "end_time": "2025-09-12T15:33:28.156130Z",
     "start_time": "2025-09-12T15:33:06.374671Z"
    }
   },
   "cell_type": "code",
   "source": "csv = pd.read_csv('user_data_public.csv', low_memory=False)",
   "id": "e2e28587d50a7fe0",
   "outputs": [],
   "execution_count": 2
  },
  {
   "metadata": {
    "ExecuteTime": {
     "end_time": "2025-09-12T15:33:28.183857Z",
     "start_time": "2025-09-12T15:33:28.176002Z"
    }
   },
   "cell_type": "code",
   "source": "question_csv = pd.read_csv('question_data.csv', delimiter=';', low_memory=False)",
   "id": "4a1da9378b5cc58d",
   "outputs": [],
   "execution_count": 3
  },
  {
   "metadata": {},
   "cell_type": "markdown",
   "source": "## Filtering top questions",
   "id": "217fd3c070e0ca"
  },
  {
   "metadata": {
    "ExecuteTime": {
     "end_time": "2025-09-12T15:33:28.197222Z",
     "start_time": "2025-09-12T15:33:28.194907Z"
    }
   },
   "cell_type": "code",
   "source": [
    "top_questions_string = \"\"\"Questions meeting criteria: 62 out of 2617\n",
    "\n",
    "Top 15 most predictive questions:\n",
    "             question  response_rate  predictive_score  is_numeric\n",
    "18                q35       0.736921               1.0       False\n",
    "1449          q358077       0.814600               1.0       False\n",
    "1439          q179268       0.792763               1.0       False\n",
    "23                q41       0.791856               1.0       False\n",
    "996            q44639       0.803908               1.0       False\n",
    "959            q41953       0.711032               1.0       False\n",
    "850            q35660       0.723830               1.0       False\n",
    "2612           gender       0.970660               1.0       False\n",
    "2614          gender2       0.967764               1.0       False\n",
    "1466  d_religion_type       0.970645               1.0       False\n",
    "1467          d_drugs       0.814629               1.0       False\n",
    "658            q20930       0.785962               1.0       False\n",
    "499            q16053       0.848942               1.0       False\n",
    "1470          lf_want       0.970660               1.0       False\n",
    "417             q9688       0.814629               1.0       False\"\"\"\n",
    "\n",
    "top_questions = [\"q35\",\n",
    "                 \"q358077\",\n",
    "                 \"q179268\",\n",
    "                 \"q41\",\n",
    "                 \"q44639\",\n",
    "                 \"q41953\",\n",
    "                 \"q35660\",\n",
    "                 \"gender\",\n",
    "                 \"gender2\",\n",
    "                 \"d_religion_type\",\n",
    "                 \"d_drugs\",\n",
    "                 \"q20930\",\n",
    "                 \"q16053\",\n",
    "                 \"lf_want\",\n",
    "                 \"q9688\"]"
   ],
   "id": "f77112770aa36104",
   "outputs": [],
   "execution_count": 4
  },
  {
   "metadata": {
    "ExecuteTime": {
     "end_time": "2025-09-12T15:33:28.219317Z",
     "start_time": "2025-09-12T15:33:28.209244Z"
    }
   },
   "cell_type": "code",
   "source": [
    "relevant_questions = question_csv[question_csv['question'].isin(top_questions)]\n",
    "relevant_questions"
   ],
   "id": "1cbeca3b08172d99",
   "outputs": [
    {
     "data": {
      "text/plain": [
       "             question                                               text  \\\n",
       "21                q35  Regardless of future plans, what's more intere...   \n",
       "26                q41        How important is religion/God in your life?   \n",
       "612             q9688             Could you date someone who does drugs?   \n",
       "744            q16053  How willing are you to meet someone from OkCup...   \n",
       "1053           q20930                         Rate your self-confidence:   \n",
       "1417           q35660         How often are you open with your feelings?   \n",
       "1613           q41953  About how long do you want your next relations...   \n",
       "1678           q44639                          Do you like scary movies?   \n",
       "2510          q179268                Are you either vegetarian or vegan?   \n",
       "2539          q358077       Could you date someone who was really messy?   \n",
       "2595  d_religion_type                                      Religion type   \n",
       "2596          d_drugs                                              Drugs   \n",
       "2612          lf_want                                      Type of match   \n",
       "\n",
       "                 option_1                                  option_2  \\\n",
       "21                    Sex                                      Love   \n",
       "26    Extremely important                        Somewhat important   \n",
       "612                    No   Yes, but only soft stuff like marijuana   \n",
       "744      Totally willing!  Hesitant, but I'd certainly consider it.   \n",
       "1053      Very, very high                       Higher than average   \n",
       "1417               Always                                   Usually   \n",
       "1613            One night                    A few months to a year   \n",
       "1678                  Yes                                        No   \n",
       "2510                  Yes                                        No   \n",
       "2539                  Yes                                        No   \n",
       "2595                  NaN                                       NaN   \n",
       "2596                  NaN                                       NaN   \n",
       "2612                  NaN                                       NaN   \n",
       "\n",
       "                                      option_3              option_4      N  \\\n",
       "21                                         NaN                   NaN  50384   \n",
       "26                          Not very important  Not at all important  54140   \n",
       "612                                        Yes                   NaN  55697   \n",
       "744   I'm not interested in meeting in person.                   NaN  58043   \n",
       "1053                                   Average         Below average  53737   \n",
       "1417                                    Rarely                 Never  49489   \n",
       "1613                             Several years   The rest of my life  48614   \n",
       "1678                                       NaN                   NaN  54964   \n",
       "2510                                       NaN                   NaN  54202   \n",
       "2539                                       NaN                   NaN  55695   \n",
       "2595                                       NaN                   NaN  66365   \n",
       "2596                                       NaN                   NaN  55697   \n",
       "2612                                       NaN                   NaN  66365   \n",
       "\n",
       "     Type Order               Keywords  \n",
       "21      N   NaN           sex/intimacy  \n",
       "26      O   NaN  religion/superstition  \n",
       "612     O   NaN             preference  \n",
       "744     O   NaN             preference  \n",
       "1053    O   NaN            descriptive  \n",
       "1417    O   NaN            descriptive  \n",
       "1613    O   NaN             preference  \n",
       "1678    O   NaN             preference  \n",
       "2510    O   NaN  politics; descriptive  \n",
       "2539    O   NaN             preference  \n",
       "2595  NaN   NaN                    NaN  \n",
       "2596  NaN   NaN                    NaN  \n",
       "2612  NaN   NaN                    NaN  "
      ],
      "text/html": [
       "<div>\n",
       "<style scoped>\n",
       "    .dataframe tbody tr th:only-of-type {\n",
       "        vertical-align: middle;\n",
       "    }\n",
       "\n",
       "    .dataframe tbody tr th {\n",
       "        vertical-align: top;\n",
       "    }\n",
       "\n",
       "    .dataframe thead th {\n",
       "        text-align: right;\n",
       "    }\n",
       "</style>\n",
       "<table border=\"1\" class=\"dataframe\">\n",
       "  <thead>\n",
       "    <tr style=\"text-align: right;\">\n",
       "      <th></th>\n",
       "      <th>question</th>\n",
       "      <th>text</th>\n",
       "      <th>option_1</th>\n",
       "      <th>option_2</th>\n",
       "      <th>option_3</th>\n",
       "      <th>option_4</th>\n",
       "      <th>N</th>\n",
       "      <th>Type</th>\n",
       "      <th>Order</th>\n",
       "      <th>Keywords</th>\n",
       "    </tr>\n",
       "  </thead>\n",
       "  <tbody>\n",
       "    <tr>\n",
       "      <th>21</th>\n",
       "      <td>q35</td>\n",
       "      <td>Regardless of future plans, what's more intere...</td>\n",
       "      <td>Sex</td>\n",
       "      <td>Love</td>\n",
       "      <td>NaN</td>\n",
       "      <td>NaN</td>\n",
       "      <td>50384</td>\n",
       "      <td>N</td>\n",
       "      <td>NaN</td>\n",
       "      <td>sex/intimacy</td>\n",
       "    </tr>\n",
       "    <tr>\n",
       "      <th>26</th>\n",
       "      <td>q41</td>\n",
       "      <td>How important is religion/God in your life?</td>\n",
       "      <td>Extremely important</td>\n",
       "      <td>Somewhat important</td>\n",
       "      <td>Not very important</td>\n",
       "      <td>Not at all important</td>\n",
       "      <td>54140</td>\n",
       "      <td>O</td>\n",
       "      <td>NaN</td>\n",
       "      <td>religion/superstition</td>\n",
       "    </tr>\n",
       "    <tr>\n",
       "      <th>612</th>\n",
       "      <td>q9688</td>\n",
       "      <td>Could you date someone who does drugs?</td>\n",
       "      <td>No</td>\n",
       "      <td>Yes, but only soft stuff like marijuana</td>\n",
       "      <td>Yes</td>\n",
       "      <td>NaN</td>\n",
       "      <td>55697</td>\n",
       "      <td>O</td>\n",
       "      <td>NaN</td>\n",
       "      <td>preference</td>\n",
       "    </tr>\n",
       "    <tr>\n",
       "      <th>744</th>\n",
       "      <td>q16053</td>\n",
       "      <td>How willing are you to meet someone from OkCup...</td>\n",
       "      <td>Totally willing!</td>\n",
       "      <td>Hesitant, but I'd certainly consider it.</td>\n",
       "      <td>I'm not interested in meeting in person.</td>\n",
       "      <td>NaN</td>\n",
       "      <td>58043</td>\n",
       "      <td>O</td>\n",
       "      <td>NaN</td>\n",
       "      <td>preference</td>\n",
       "    </tr>\n",
       "    <tr>\n",
       "      <th>1053</th>\n",
       "      <td>q20930</td>\n",
       "      <td>Rate your self-confidence:</td>\n",
       "      <td>Very, very high</td>\n",
       "      <td>Higher than average</td>\n",
       "      <td>Average</td>\n",
       "      <td>Below average</td>\n",
       "      <td>53737</td>\n",
       "      <td>O</td>\n",
       "      <td>NaN</td>\n",
       "      <td>descriptive</td>\n",
       "    </tr>\n",
       "    <tr>\n",
       "      <th>1417</th>\n",
       "      <td>q35660</td>\n",
       "      <td>How often are you open with your feelings?</td>\n",
       "      <td>Always</td>\n",
       "      <td>Usually</td>\n",
       "      <td>Rarely</td>\n",
       "      <td>Never</td>\n",
       "      <td>49489</td>\n",
       "      <td>O</td>\n",
       "      <td>NaN</td>\n",
       "      <td>descriptive</td>\n",
       "    </tr>\n",
       "    <tr>\n",
       "      <th>1613</th>\n",
       "      <td>q41953</td>\n",
       "      <td>About how long do you want your next relations...</td>\n",
       "      <td>One night</td>\n",
       "      <td>A few months to a year</td>\n",
       "      <td>Several years</td>\n",
       "      <td>The rest of my life</td>\n",
       "      <td>48614</td>\n",
       "      <td>O</td>\n",
       "      <td>NaN</td>\n",
       "      <td>preference</td>\n",
       "    </tr>\n",
       "    <tr>\n",
       "      <th>1678</th>\n",
       "      <td>q44639</td>\n",
       "      <td>Do you like scary movies?</td>\n",
       "      <td>Yes</td>\n",
       "      <td>No</td>\n",
       "      <td>NaN</td>\n",
       "      <td>NaN</td>\n",
       "      <td>54964</td>\n",
       "      <td>O</td>\n",
       "      <td>NaN</td>\n",
       "      <td>preference</td>\n",
       "    </tr>\n",
       "    <tr>\n",
       "      <th>2510</th>\n",
       "      <td>q179268</td>\n",
       "      <td>Are you either vegetarian or vegan?</td>\n",
       "      <td>Yes</td>\n",
       "      <td>No</td>\n",
       "      <td>NaN</td>\n",
       "      <td>NaN</td>\n",
       "      <td>54202</td>\n",
       "      <td>O</td>\n",
       "      <td>NaN</td>\n",
       "      <td>politics; descriptive</td>\n",
       "    </tr>\n",
       "    <tr>\n",
       "      <th>2539</th>\n",
       "      <td>q358077</td>\n",
       "      <td>Could you date someone who was really messy?</td>\n",
       "      <td>Yes</td>\n",
       "      <td>No</td>\n",
       "      <td>NaN</td>\n",
       "      <td>NaN</td>\n",
       "      <td>55695</td>\n",
       "      <td>O</td>\n",
       "      <td>NaN</td>\n",
       "      <td>preference</td>\n",
       "    </tr>\n",
       "    <tr>\n",
       "      <th>2595</th>\n",
       "      <td>d_religion_type</td>\n",
       "      <td>Religion type</td>\n",
       "      <td>NaN</td>\n",
       "      <td>NaN</td>\n",
       "      <td>NaN</td>\n",
       "      <td>NaN</td>\n",
       "      <td>66365</td>\n",
       "      <td>NaN</td>\n",
       "      <td>NaN</td>\n",
       "      <td>NaN</td>\n",
       "    </tr>\n",
       "    <tr>\n",
       "      <th>2596</th>\n",
       "      <td>d_drugs</td>\n",
       "      <td>Drugs</td>\n",
       "      <td>NaN</td>\n",
       "      <td>NaN</td>\n",
       "      <td>NaN</td>\n",
       "      <td>NaN</td>\n",
       "      <td>55697</td>\n",
       "      <td>NaN</td>\n",
       "      <td>NaN</td>\n",
       "      <td>NaN</td>\n",
       "    </tr>\n",
       "    <tr>\n",
       "      <th>2612</th>\n",
       "      <td>lf_want</td>\n",
       "      <td>Type of match</td>\n",
       "      <td>NaN</td>\n",
       "      <td>NaN</td>\n",
       "      <td>NaN</td>\n",
       "      <td>NaN</td>\n",
       "      <td>66365</td>\n",
       "      <td>NaN</td>\n",
       "      <td>NaN</td>\n",
       "      <td>NaN</td>\n",
       "    </tr>\n",
       "  </tbody>\n",
       "</table>\n",
       "</div>"
      ]
     },
     "execution_count": 5,
     "metadata": {},
     "output_type": "execute_result"
    }
   ],
   "execution_count": 5
  },
  {
   "metadata": {
    "ExecuteTime": {
     "end_time": "2025-09-12T15:33:28.263233Z",
     "start_time": "2025-09-12T15:33:28.250187Z"
    }
   },
   "cell_type": "code",
   "source": "csv_relevant_questions = csv[top_questions + ['d_age', 'gender']]",
   "id": "86a935f07b501e06",
   "outputs": [],
   "execution_count": 6
  },
  {
   "metadata": {
    "ExecuteTime": {
     "end_time": "2025-09-12T15:33:28.287390Z",
     "start_time": "2025-09-12T15:33:28.285617Z"
    }
   },
   "cell_type": "code",
   "source": [
    "# filtered_df = csv.loc[:, ~csv.columns.str.match(r'^q\\d+')]\n",
    "# filtered_df.columns"
   ],
   "id": "fbe4afa359566b75",
   "outputs": [],
   "execution_count": 7
  },
  {
   "metadata": {
    "ExecuteTime": {
     "end_time": "2025-09-12T15:33:28.349444Z",
     "start_time": "2025-09-12T15:33:28.322283Z"
    }
   },
   "cell_type": "code",
   "source": "csv_relevant_questions = csv_relevant_questions.dropna()",
   "id": "7c0b692f858374cb",
   "outputs": [],
   "execution_count": 8
  },
  {
   "metadata": {
    "ExecuteTime": {
     "end_time": "2025-09-12T15:33:53.471915Z",
     "start_time": "2025-09-12T15:33:53.464647Z"
    }
   },
   "cell_type": "code",
   "source": "csv_relevant_questions = csv_relevant_questions.sample(n=1000).reset_index()",
   "id": "31f898faa717da18",
   "outputs": [],
   "execution_count": 10
  },
  {
   "metadata": {
    "ExecuteTime": {
     "end_time": "2025-09-12T15:33:55.328594Z",
     "start_time": "2025-09-12T15:33:55.314084Z"
    }
   },
   "cell_type": "code",
   "source": [
    "csv_relevant_questions.to_csv('data_for_report/profiles_for_processing.csv', index=True)\n",
    "relevant_questions.to_csv('data_for_report/relevant_questions.csv', index=False)"
   ],
   "id": "a589dee54b8413ba",
   "outputs": [],
   "execution_count": 11
  },
  {
   "metadata": {},
   "cell_type": "code",
   "outputs": [],
   "execution_count": null,
   "source": "",
   "id": "7d0600dbb70cb596"
  }
 ],
 "metadata": {
  "kernelspec": {
   "display_name": "Python 3",
   "language": "python",
   "name": "python3"
  },
  "language_info": {
   "codemirror_mode": {
    "name": "ipython",
    "version": 2
   },
   "file_extension": ".py",
   "mimetype": "text/x-python",
   "name": "python",
   "nbconvert_exporter": "python",
   "pygments_lexer": "ipython2",
   "version": "2.7.6"
  }
 },
 "nbformat": 4,
 "nbformat_minor": 5
}
