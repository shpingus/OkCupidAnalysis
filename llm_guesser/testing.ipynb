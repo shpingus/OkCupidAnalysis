{
 "cells": [
  {
   "cell_type": "markdown",
   "id": "ee5ccce9098711ad",
   "metadata": {},
   "source": [
    "# Setup and Imports"
   ]
  },
  {
   "cell_type": "code",
   "execution_count": 1,
   "id": "initial_id",
   "metadata": {
    "ExecuteTime": {
     "end_time": "2025-09-01T18:03:50.999091Z",
     "start_time": "2025-09-01T18:03:40.343498Z"
    },
    "collapsed": true
   },
   "outputs": [],
   "source": [
    "import pandas as pd"
   ]
  },
  {
   "cell_type": "markdown",
   "id": "bda51249048e6608",
   "metadata": {},
   "source": [
    "# Trying"
   ]
  },
  {
   "cell_type": "code",
   "execution_count": 2,
   "id": "4b2e7af3f4a87d0d",
   "metadata": {
    "ExecuteTime": {
     "end_time": "2025-09-01T18:05:15.719196Z",
     "start_time": "2025-09-01T18:05:02.795243Z"
    }
   },
   "outputs": [],
   "source": [
    "csv = pd.read_csv('../data/user_data_public.csv', low_memory=False)"
   ]
  },
  {
   "cell_type": "code",
   "execution_count": 8,
   "id": "67271bcd283eb834",
   "metadata": {
    "ExecuteTime": {
     "end_time": "2025-09-01T18:07:09.781882Z",
     "start_time": "2025-09-01T18:07:06.280450Z"
    }
   },
   "outputs": [],
   "source": [
    "csv.isna().sum(axis=1).nsmallest(10).index.to_list()\n",
    "top_10_least_nan = csv.loc[csv.isna().sum(axis=1).nsmallest(10).index]\n",
    "top_10_least_nan.to_csv('../data/top_10_least_nan.csv')\n"
   ]
  },
  {
   "cell_type": "code",
   "id": "11e7861e15b8cd62",
   "metadata": {
    "ExecuteTime": {
     "end_time": "2025-09-01T18:30:01.962646Z",
     "start_time": "2025-09-01T18:30:01.938205Z"
    }
   },
   "source": [
    "from dotenv import load_dotenv\n",
    "load_dotenv()\n",
    "\n",
    "import os\n",
    "os.environ['GOOGLE_API_KEY']"
   ],
   "outputs": [
    {
     "data": {
      "text/plain": [
       ""
      ]
     },
     "execution_count": 9,
     "metadata": {},
     "output_type": "execute_result"
    }
   ],
   "execution_count": 9
  },
  {
   "cell_type": "code",
   "execution_count": null,
   "id": "985fc792",
   "metadata": {},
   "outputs": [],
   "source": []
  }
 ],
 "metadata": {
  "kernelspec": {
   "display_name": "Python 3",
   "language": "python",
   "name": "python3"
  },
  "language_info": {
   "codemirror_mode": {
    "name": "ipython",
    "version": 2
   },
   "file_extension": ".py",
   "mimetype": "text/x-python",
   "name": "python",
   "nbconvert_exporter": "python",
   "pygments_lexer": "ipython2",
   "version": "2.7.6"
  }
 },
 "nbformat": 4,
 "nbformat_minor": 5
}
