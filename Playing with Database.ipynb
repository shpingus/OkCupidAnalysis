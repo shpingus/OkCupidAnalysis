{
 "cells": [
  {
   "metadata": {},
   "cell_type": "markdown",
   "source": "## Imports",
   "id": "943a0ea3a00a4ebf"
  },
  {
   "metadata": {
    "ExecuteTime": {
     "end_time": "2025-06-06T21:47:38.516729Z",
     "start_time": "2025-06-06T21:47:38.512720Z"
    }
   },
   "cell_type": "code",
   "source": [
    "import torch\n",
    "\n",
    "if torch.backends.mps.is_available() and torch.backends.mps.is_built():\n",
    "    print('Using MPS')\n",
    "    device = torch.device(\"mps\")\n",
    "elif torch.backends.cuda.is_built():\n",
    "    print('Using CUDA')\n",
    "    device = torch.device(\"cuda\")\n",
    "else:\n",
    "    print('Using CPU')\n",
    "    device = torch.device(\"cpu\")"
   ],
   "id": "dfb4a5ac3c6bee57",
   "outputs": [
    {
     "name": "stdout",
     "output_type": "stream",
     "text": [
      "Using MPS\n"
     ]
    }
   ],
   "execution_count": 3
  },
  {
   "metadata": {
    "ExecuteTime": {
     "end_time": "2025-06-06T21:50:10.070283Z",
     "start_time": "2025-06-06T21:50:10.067933Z"
    }
   },
   "cell_type": "code",
   "source": [
    "import pandas as pd\n",
    "from sklearn.model_selection import train_test_split\n",
    "from tqdm.auto import tqdm"
   ],
   "id": "cd620814bca175c",
   "outputs": [],
   "execution_count": 11
  },
  {
   "metadata": {},
   "cell_type": "markdown",
   "source": "## Main Load",
   "id": "49f38c3bb20a31ff"
  },
  {
   "metadata": {
    "ExecuteTime": {
     "end_time": "2025-06-06T21:48:05.188195Z",
     "start_time": "2025-06-06T21:47:44.204935Z"
    }
   },
   "cell_type": "code",
   "source": "csv = pd.read_csv('data/user_data_public.csv', low_memory=False)",
   "id": "e373b176327cf774",
   "outputs": [],
   "execution_count": 4
  },
  {
   "metadata": {
    "ExecuteTime": {
     "end_time": "2025-06-06T21:41:26.091743Z",
     "start_time": "2025-06-06T21:41:26.074080Z"
    }
   },
   "cell_type": "code",
   "source": "filtered_df = csv.loc[:, ~csv.columns.str.match(r'^q\\d+')]",
   "id": "dc746d8ba010c28b",
   "outputs": [],
   "execution_count": 4
  },
  {
   "metadata": {},
   "cell_type": "code",
   "outputs": [],
   "execution_count": null,
   "source": "# f = filtered_df.d_country.value_counts().where(filtered_df.d_country.value_counts() > 100)",
   "id": "7d37734f6f75786c"
  },
  {
   "metadata": {},
   "cell_type": "markdown",
   "source": "## A Little Experiment - Checking bodytype v sexual orientation correlations in Men",
   "id": "55e0b13a16ff7270"
  },
  {
   "metadata": {},
   "cell_type": "code",
   "outputs": [],
   "execution_count": null,
   "source": [
    "import numpy as np\n",
    "\n",
    "# Filtering NA\n",
    "bodytype_orientation = filtered_df[['d_bodytype', 'd_orientation', 'gender']].dropna()\n",
    "\n",
    "# Filtering men only\n",
    "bodytype_orientation = bodytype_orientation[\n",
    "    (bodytype_orientation.gender == 'Man') & (bodytype_orientation.d_bodytype != 'Rather not say')].drop(\n",
    "    columns=['gender'])\n",
    "\n",
    "bodytype_orientation.d_orientation.unique()\n",
    "# Distinguishing likely homosexual group from rest of men. Identified ['Gay', 'Gay, Queer', 'Gay, Sapiosexual'] as potential homosexual groups. Others  varied\n",
    "\n",
    "potential_homosexual_groups = ['Gay', 'Gay, Queer']\n",
    "# bodytype_orientation = bodytype_orientation[bodytype_orientation.d_orientation.isin(potential_homosexual_groups + ['Straight'])]\n",
    "\n",
    "# Create the new column with 'h' for homosexual and 'o' for others\n",
    "bodytype_orientation['d_orientation'] = np.where(\n",
    "    bodytype_orientation['d_orientation'].isin(potential_homosexual_groups),\n",
    "    'h',\n",
    "    'o'\n",
    ")\n",
    "bodytype_orientation.value_counts()"
   ],
   "id": "9e794828fa10b1d3"
  },
  {
   "metadata": {},
   "cell_type": "code",
   "outputs": [],
   "execution_count": null,
   "source": [
    "(bodytype_orientation[\n",
    "     bodytype_orientation.d_bodytype == 'Jacked'].d_orientation.value_counts() / bodytype_orientation.d_orientation.value_counts())"
   ],
   "id": "851729edc06d1d86"
  },
  {
   "metadata": {},
   "cell_type": "code",
   "outputs": [],
   "execution_count": null,
   "source": [
    "bodytype_orientation.d_orientation.value_counts()\n",
    "# bodytype_orientation[bodytype_orientation.d_bodytype == 'Overwight'].value_counts() / bodytype_orientation.d_orientation.value_counts()"
   ],
   "id": "3c05ac6e8744dc21"
  },
  {
   "metadata": {},
   "cell_type": "markdown",
   "source": "## Mixed Matchmaking",
   "id": "3be4fcaf50db14c0"
  },
  {
   "metadata": {},
   "cell_type": "code",
   "outputs": [],
   "execution_count": null,
   "source": "csv[csv.q71 == 'Yes'].race.value_counts() / csv[csv.q71.isin(['Yes', 'No'])].race.value_counts()",
   "id": "30f4f422420ebe1c"
  },
  {
   "metadata": {},
   "cell_type": "code",
   "outputs": [],
   "execution_count": null,
   "source": [
    "religions_csv = csv[['q71', 'd_religion_type', 'gender', 'race']].dropna(subset=['d_religion_type', 'q71'])\n",
    "religions_csv = religions_csv[religions_csv['d_religion_type'] != '-']\n",
    "religions_csv.d_religion_type.value_counts()"
   ],
   "id": "b17bf2beafa2c7a7"
  },
  {
   "metadata": {},
   "cell_type": "code",
   "outputs": [],
   "execution_count": null,
   "source": "bad_idea_boolean = religions_csv.q71 == 'Yes'",
   "id": "865ffeaec9a62c6c"
  },
  {
   "metadata": {},
   "cell_type": "code",
   "outputs": [],
   "execution_count": null,
   "source": "religions_csv[bad_idea_boolean].d_religion_type.value_counts() / religions_csv.d_religion_type.value_counts()",
   "id": "262cb87f8ee770de"
  },
  {
   "metadata": {},
   "cell_type": "markdown",
   "source": "## Police/Coutnry Safety",
   "id": "cdd73f71268a50fe"
  },
  {
   "metadata": {},
   "cell_type": "code",
   "outputs": [],
   "execution_count": null,
   "source": [
    "# q6109\n",
    "safety = csv[['q6109', 'race', 'gender', 'd_country']].dropna(subset='q6109')"
   ],
   "id": "f7fd074975f429ba"
  },
  {
   "metadata": {},
   "cell_type": "code",
   "outputs": [],
   "execution_count": null,
   "source": "safety",
   "id": "18babe2f03528a00"
  },
  {
   "metadata": {},
   "cell_type": "markdown",
   "source": "## PCA",
   "id": "c5b238f325002535"
  },
  {
   "metadata": {
    "ExecuteTime": {
     "end_time": "2025-06-06T21:00:13.799732Z",
     "start_time": "2025-06-06T21:00:13.723732Z"
    }
   },
   "cell_type": "code",
   "source": [
    "import random\n",
    "from sklearn.preprocessing import StandardScaler\n",
    "\n",
    "df = filtered_df.drop(columns=['CA', 'CA_items'])  # Remove uninterpreted columns\n",
    "df = df.dropna(subset=['d_gender', 'd_age', 'p_ambi'])  # Core features\n",
    "\n",
    "# Encode categoricals\n",
    "cat_cols = ['d_astrology_sign', 'd_education_type', 'd_ethnicity']\n",
    "df = pd.get_dummies(df, columns=cat_cols, drop_first=True)\n",
    "\n",
    "# Normalize personality traits\n",
    "p_cols = [c for c in df.columns if c.startswith('p_')]\n",
    "scaler = StandardScaler()\n",
    "df[p_cols] = scaler.fit_transform(df[p_cols].fillna(df[p_cols].mean()))"
   ],
   "id": "243811b93cc23452",
   "outputs": [],
   "execution_count": 31
  },
  {
   "metadata": {
    "ExecuteTime": {
     "end_time": "2025-06-06T21:01:13.262316Z",
     "start_time": "2025-06-06T21:00:43.689239Z"
    }
   },
   "cell_type": "code",
   "source": [
    "from sklearn.decomposition import PCA\n",
    "from sklearn.manifold import TSNE\n",
    "\n",
    "# PCA for visualization\n",
    "pca = PCA(n_components=0.95)\n",
    "pca_features = pca.fit_transform(df[p_cols])\n",
    "\n",
    "# t-SNE for cluster separation\n",
    "tsne = TSNE(n_components=2, perplexity=30)\n",
    "tsne_results = tsne.fit_transform(pca_features)\n"
   ],
   "id": "fc40de25c71b6eb7",
   "outputs": [
    {
     "name": "stderr",
     "output_type": "stream",
     "text": [
      "/Users/david/opt/anaconda3/lib/python3.9/site-packages/sklearn/manifold/_t_sne.py:780: FutureWarning: The default initialization in TSNE will change from 'random' to 'pca' in 1.2.\n",
      "  warnings.warn(\n",
      "/Users/david/opt/anaconda3/lib/python3.9/site-packages/sklearn/manifold/_t_sne.py:790: FutureWarning: The default learning rate in TSNE will change from 200.0 to 'auto' in 1.2.\n",
      "  warnings.warn(\n"
     ]
    }
   ],
   "execution_count": 33
  },
  {
   "metadata": {
    "ExecuteTime": {
     "end_time": "2025-06-06T21:01:25.924283Z",
     "start_time": "2025-06-06T21:01:13.283124Z"
    }
   },
   "cell_type": "code",
   "source": [
    "from sklearn.metrics import silhouette_score\n",
    "from sklearn.cluster import KMeans\n",
    "\n",
    "# Determine optimal clusters\n",
    "silhouette_scores = []\n",
    "for k in range(2, 8):\n",
    "    kmeans = KMeans(n_clusters=k)\n",
    "    labels = kmeans.fit_predict(pca_features)\n",
    "    silhouette_scores.append(silhouette_score(pca_features, labels))\n",
    "\n",
    "# Final clustering\n",
    "optimal_k = np.argmax(silhouette_scores) + 2\n",
    "kmeans = KMeans(n_clusters=optimal_k)\n",
    "df['cluster'] = kmeans.fit_predict(pca_features)\n"
   ],
   "id": "382fe41d8b5a2a7b",
   "outputs": [],
   "execution_count": 34
  },
  {
   "metadata": {
    "ExecuteTime": {
     "end_time": "2025-06-06T21:01:25.960244Z",
     "start_time": "2025-06-06T21:01:25.951561Z"
    }
   },
   "cell_type": "code",
   "source": [
    "# Cluster characteristics\n",
    "cluster_profiles = df.groupby\n",
    "cluster_profiles"
   ],
   "id": "40501e28d6d892f1",
   "outputs": [
    {
     "data": {
      "text/plain": [
       "<bound method DataFrame.groupby of              p_conf        d_astrology_seriosity    p_laidback  \\\n",
       "3     -6.539848e-16                          NaN  9.601352e-16   \n",
       "5     -6.539848e-16        but it doesn't matter  9.601352e-16   \n",
       "6     -6.539848e-16                          NaN  9.601352e-16   \n",
       "22    -6.539848e-16  and it's fun to think about  9.601352e-16   \n",
       "23    -6.539848e-16                          NaN  9.601352e-16   \n",
       "...             ...                          ...           ...   \n",
       "68363 -6.539848e-16  and it's fun to think about -4.200165e-02   \n",
       "68364 -6.539848e-16  and it's fun to think about  9.601352e-16   \n",
       "68365 -6.539848e-16                          NaN -2.879669e+00   \n",
       "68369 -6.539848e-16                          NaN  9.601352e-16   \n",
       "68370 -6.539848e-16                          NaN  9.601352e-16   \n",
       "\n",
       "      d_education_phase  p_drug  \\\n",
       "3            Working on     0.0   \n",
       "5        Dropped out of     0.0   \n",
       "6            Working on     0.0   \n",
       "22                  NaN     0.0   \n",
       "23                  NaN     0.0   \n",
       "...                 ...     ...   \n",
       "68363        Working on     0.0   \n",
       "68364        Working on     0.0   \n",
       "68365    Dropped out of     0.0   \n",
       "68369    Graduated from     0.0   \n",
       "68370    Graduated from     0.0   \n",
       "\n",
       "                                                d_gender         p_lit  \\\n",
       "3                                                  Woman  2.776957e-01   \n",
       "5                                                    Man -1.251023e-17   \n",
       "6      Transgender, Transfeminine, Non-binary, Gender... -1.251023e-17   \n",
       "22                                                 Woman -1.018149e+00   \n",
       "23                                                 Woman  3.340368e-01   \n",
       "...                                                  ...           ...   \n",
       "68363                                              Woman -2.144970e+00   \n",
       "68364                                                Man -1.187172e+00   \n",
       "68365                                                Man  4.748894e-01   \n",
       "68369                                              Woman -1.251023e-17   \n",
       "68370                                                Man -3.138855e-01   \n",
       "\n",
       "         p_progress         d_income   p_roman  ...  \\\n",
       "3      1.221034e-16              NaN -1.492491  ...   \n",
       "5      1.221034e-16              NaN  0.000000  ...   \n",
       "6      1.221034e-16              NaN  0.000000  ...   \n",
       "22     1.221034e-16  $50,000-$60,000  0.000000  ...   \n",
       "23     1.221034e-16              NaN -2.307060  ...   \n",
       "...             ...              ...       ...  ...   \n",
       "68363  1.221034e-16   Rather not say  0.355954  ...   \n",
       "68364 -1.165216e+01   Rather not say  0.000000  ...   \n",
       "68365  1.221034e-16  $20,000-$30,000  2.423707  ...   \n",
       "68369  1.221034e-16              NaN -0.270637  ...   \n",
       "68370  1.221034e-16              NaN  0.794568  ...   \n",
       "\n",
       "       d_ethnicity_Pacific Islander  \\\n",
       "3                                 0   \n",
       "5                                 0   \n",
       "6                                 0   \n",
       "22                                0   \n",
       "23                                0   \n",
       "...                             ...   \n",
       "68363                             0   \n",
       "68364                             0   \n",
       "68365                             0   \n",
       "68369                             0   \n",
       "68370                             0   \n",
       "\n",
       "      d_ethnicity_Pacific Islander, Hispanic / Latin  \\\n",
       "3                                                  0   \n",
       "5                                                  0   \n",
       "6                                                  0   \n",
       "22                                                 0   \n",
       "23                                                 0   \n",
       "...                                              ...   \n",
       "68363                                              0   \n",
       "68364                                              0   \n",
       "68365                                              0   \n",
       "68369                                              0   \n",
       "68370                                              0   \n",
       "\n",
       "      d_ethnicity_Pacific Islander, Hispanic / Latin, White  \\\n",
       "3                                                      0      \n",
       "5                                                      0      \n",
       "6                                                      0      \n",
       "22                                                     0      \n",
       "23                                                     0      \n",
       "...                                                  ...      \n",
       "68363                                                  0      \n",
       "68364                                                  0      \n",
       "68365                                                  0      \n",
       "68369                                                  0      \n",
       "68370                                                  0      \n",
       "\n",
       "       d_ethnicity_Pacific Islander, Hispanic / Latin, White, Other  \\\n",
       "3                                                      0              \n",
       "5                                                      0              \n",
       "6                                                      0              \n",
       "22                                                     0              \n",
       "23                                                     0              \n",
       "...                                                  ...              \n",
       "68363                                                  0              \n",
       "68364                                                  0              \n",
       "68365                                                  0              \n",
       "68369                                                  0              \n",
       "68370                                                  0              \n",
       "\n",
       "       d_ethnicity_Pacific Islander, Other  \\\n",
       "3                                        0   \n",
       "5                                        0   \n",
       "6                                        0   \n",
       "22                                       0   \n",
       "23                                       0   \n",
       "...                                    ...   \n",
       "68363                                    0   \n",
       "68364                                    0   \n",
       "68365                                    0   \n",
       "68369                                    0   \n",
       "68370                                    0   \n",
       "\n",
       "      d_ethnicity_Pacific Islander, White  \\\n",
       "3                                       0   \n",
       "5                                       0   \n",
       "6                                       0   \n",
       "22                                      0   \n",
       "23                                      0   \n",
       "...                                   ...   \n",
       "68363                                   0   \n",
       "68364                                   0   \n",
       "68365                                   0   \n",
       "68369                                   0   \n",
       "68370                                   0   \n",
       "\n",
       "      d_ethnicity_Pacific Islander, White, Other  d_ethnicity_White  \\\n",
       "3                                              0                  1   \n",
       "5                                              0                  1   \n",
       "6                                              0                  1   \n",
       "22                                             0                  1   \n",
       "23                                             0                  0   \n",
       "...                                          ...                ...   \n",
       "68363                                          0                  1   \n",
       "68364                                          0                  1   \n",
       "68365                                          0                  1   \n",
       "68369                                          0                  1   \n",
       "68370                                          0                  0   \n",
       "\n",
       "       d_ethnicity_White, Other  cluster  \n",
       "3                             0        1  \n",
       "5                             0        1  \n",
       "6                             0        1  \n",
       "22                            0        1  \n",
       "23                            0        1  \n",
       "...                         ...      ...  \n",
       "68363                         0        0  \n",
       "68364                         0        0  \n",
       "68365                         0        1  \n",
       "68369                         0        0  \n",
       "68370                         0        0  \n",
       "\n",
       "[17978 rows x 234 columns]>"
      ]
     },
     "execution_count": 35,
     "metadata": {},
     "output_type": "execute_result"
    }
   ],
   "execution_count": 35
  },
  {
   "metadata": {},
   "cell_type": "markdown",
   "source": "## Top Questions",
   "id": "d02d4f3b0cabed2"
  },
  {
   "metadata": {
    "ExecuteTime": {
     "end_time": "2025-06-06T21:49:33.278976Z",
     "start_time": "2025-06-06T21:49:33.266852Z"
    }
   },
   "cell_type": "code",
   "source": [
    "import pandas as pd\n",
    "\n",
    "# Read the data\n",
    "question_csv = pd.read_csv('data/question_data.csv', delimiter=';', low_memory=False)\n"
   ],
   "id": "c74238ed6927737d",
   "outputs": [],
   "execution_count": 5
  },
  {
   "metadata": {
    "ExecuteTime": {
     "end_time": "2025-06-06T21:49:33.848450Z",
     "start_time": "2025-06-06T21:49:33.294748Z"
    }
   },
   "cell_type": "code",
   "source": [
    "# Get high-response questions\n",
    "question_cols = list(\n",
    "    filter(lambda st: st[0] == 'q', question_csv.loc[question_csv.N > 45000, 'question'].dropna().tolist()))\n",
    "\n",
    "# Drop rows in csv with any NaNs in selected question columns\n",
    "answerers = csv.dropna(subset=question_cols)\n",
    "\n",
    "# Subset the answer columns\n",
    "answers_raw = answerers[question_cols]\n",
    "\n",
    "# One-hot encode categorical answers\n",
    "answers_encoded = pd.get_dummies(answers_raw, columns=question_cols)\n",
    "\n",
    "# Add age as target\n",
    "answers_encoded['d_age'] = answerers.loc[answers_encoded.index, 'd_age']"
   ],
   "id": "2f172e229bbb891a",
   "outputs": [],
   "execution_count": 6
  },
  {
   "metadata": {
    "ExecuteTime": {
     "end_time": "2025-06-06T21:49:33.869368Z",
     "start_time": "2025-06-06T21:49:33.867715Z"
    }
   },
   "cell_type": "code",
   "source": [
    "# question_cols = list(filter(lambda st: st[0] == 'q', question_csv.loc[question_csv.N > 45000, 'question'].dropna().tolist()))\n",
    "# question_cols"
   ],
   "id": "281c7e0bb70ddbf6",
   "outputs": [],
   "execution_count": 7
  },
  {
   "metadata": {
    "ExecuteTime": {
     "end_time": "2025-06-06T21:49:33.889094Z",
     "start_time": "2025-06-06T21:49:33.887665Z"
    }
   },
   "cell_type": "code",
   "source": [
    "# answerers = csv.dropna(subset=question_cols)\n",
    "# answers = answerers[question_cols + ['d_age']]\n",
    "# answerers"
   ],
   "id": "9f8a5c5bb72c35b1",
   "outputs": [],
   "execution_count": 8
  },
  {
   "metadata": {
    "ExecuteTime": {
     "end_time": "2025-06-06T21:55:08.766169Z",
     "start_time": "2025-06-06T21:55:08.732957Z"
    }
   },
   "cell_type": "code",
   "source": [
    "from sklearn.model_selection import train_test_split\n",
    "# Drop rows with NaNs in features or target before splitting\n",
    "clean_data = answers_encoded.dropna(subset=answers_encoded.columns.tolist() + ['d_age'])\n",
    "\n",
    "X = clean_data.drop(columns='d_age')\n",
    "y = clean_data['d_age']\n",
    "\n",
    "X_train, X_test, y_train, y_test = train_test_split(X, y, test_size=0.2, random_state=42)"
   ],
   "id": "475b25f1fd09de26",
   "outputs": [],
   "execution_count": 17
  },
  {
   "metadata": {
    "ExecuteTime": {
     "end_time": "2025-06-06T21:55:25.245417Z",
     "start_time": "2025-06-06T21:55:09.536003Z"
    }
   },
   "cell_type": "code",
   "source": [
    "import torch\n",
    "import torch.nn as nn\n",
    "import torch.optim as optim\n",
    "from torch.utils.data import Dataset, DataLoader\n",
    "import numpy as np\n",
    "\n",
    "\n",
    "# Custom dataset class\n",
    "class QuestionDataset(Dataset):\n",
    "    def __init__(self, X, y):\n",
    "        self.X = torch.FloatTensor(X.values)\n",
    "        self.y = torch.FloatTensor(y.values)\n",
    "\n",
    "    def __len__(self):\n",
    "        return len(self.X)\n",
    "\n",
    "    def __getitem__(self, idx):\n",
    "        return self.X[idx], self.y[idx]\n",
    "\n",
    "\n",
    "# Neural network model\n",
    "class AgePredictor(nn.Module):\n",
    "    def __init__(self, input_size):\n",
    "        super(AgePredictor, self).__init__()\n",
    "        self.layers = nn.Sequential(\n",
    "            nn.Linear(input_size, 256),\n",
    "            nn.ReLU(),\n",
    "            nn.Dropout(0.2),\n",
    "            nn.Linear(256, 128),\n",
    "            nn.ReLU(),\n",
    "            nn.Dropout(0.2),\n",
    "            nn.Linear(128, 64),\n",
    "            nn.ReLU(),\n",
    "            nn.Linear(64, 1)\n",
    "        )\n",
    "\n",
    "    def forward(self, x):\n",
    "        return torch.clamp(self.layers(x), min=1, max=100)\n",
    "\n",
    "\n",
    "# Create datasets\n",
    "train_dataset = QuestionDataset(X_train, y_train)\n",
    "test_dataset = QuestionDataset(X_test, y_test)\n",
    "\n",
    "# Create dataloaders\n",
    "train_loader = DataLoader(train_dataset, batch_size=64, shuffle=True)\n",
    "test_loader = DataLoader(test_dataset, batch_size=64)\n",
    "\n",
    "# Initialize model, loss and optimizer\n",
    "model = AgePredictor(X_train.shape[1]).to(device)\n",
    "criterion = nn.MSELoss()\n",
    "optimizer = optim.Adam(model.parameters())\n",
    "\n",
    "# Training loop\n",
    "\n",
    "num_epochs = 10\n",
    "# Compute total steps\n",
    "total_steps = num_epochs * (len(train_loader) + len(test_loader))\n",
    "progress_bar = tqdm(total=total_steps, desc=\"Training Progress\", leave=False)\n",
    "for epoch in range(num_epochs):\n",
    "    model.train()\n",
    "    train_loss_total = 0.0\n",
    "    for inputs, targets in train_loader:\n",
    "        inputs, targets = inputs.to(device), targets.to(device)\n",
    "        optimizer.zero_grad()\n",
    "        outputs = model(inputs)\n",
    "        loss = criterion(outputs.squeeze(), targets)\n",
    "        loss.backward()\n",
    "        optimizer.step()\n",
    "\n",
    "        train_loss_total += loss.item()\n",
    "        progress_bar.update(1)\n",
    "        progress_bar.set_description(f\"Epoch {epoch+1}/{num_epochs} [Train]\")\n",
    "        progress_bar.set_postfix(loss=loss.item())\n",
    "\n",
    "    model.eval()\n",
    "    val_loss_total = 0.0\n",
    "    with torch.no_grad():\n",
    "        for inputs, targets in test_loader:\n",
    "            inputs, targets = inputs.to(device), targets.to(device)\n",
    "            outputs = model(inputs)\n",
    "            loss = criterion(outputs.squeeze(), targets).item()\n",
    "            val_loss_total += loss\n",
    "            progress_bar.update(1)\n",
    "            progress_bar.set_description(f\"Epoch {epoch+1}/{num_epochs} [Val]\")\n",
    "            progress_bar.set_postfix(loss=loss)\n",
    "\n",
    "    # Print epoch summary\n",
    "    print(f\"Epoch {epoch+1}/{num_epochs} - \"\n",
    "          f\"Train Loss: {train_loss_total / len(train_loader):.4f} | \"\n",
    "          f\"Val Loss: {val_loss_total / len(test_loader):.4f}\")\n",
    "\n",
    "progress_bar.close()\n",
    "\n"
   ],
   "id": "c47c2056b6dbeb16",
   "outputs": [
    {
     "data": {
      "text/plain": [
       "Training Progress:   0%|          | 0/2590 [00:00<?, ?it/s]"
      ],
      "application/vnd.jupyter.widget-view+json": {
       "version_major": 2,
       "version_minor": 0,
       "model_id": "e182e3f405b84d9e9ec7416e00596cbc"
      }
     },
     "metadata": {},
     "output_type": "display_data"
    },
    {
     "name": "stdout",
     "output_type": "stream",
     "text": [
      "Epoch 1/10 - Train Loss: 1149.3093 | Val Loss: 1143.2173\n",
      "Epoch 2/10 - Train Loss: 1149.4158 | Val Loss: 1143.2173\n",
      "Epoch 3/10 - Train Loss: 1149.2404 | Val Loss: 1143.2173\n",
      "Epoch 4/10 - Train Loss: 1149.3892 | Val Loss: 1143.2173\n",
      "Epoch 5/10 - Train Loss: 1149.2692 | Val Loss: 1143.2173\n",
      "Epoch 6/10 - Train Loss: 1149.4427 | Val Loss: 1143.2173\n",
      "Epoch 7/10 - Train Loss: 1149.4207 | Val Loss: 1143.2173\n",
      "Epoch 8/10 - Train Loss: 1149.3983 | Val Loss: 1143.2173\n",
      "Epoch 9/10 - Train Loss: 1149.3244 | Val Loss: 1143.2173\n",
      "Epoch 10/10 - Train Loss: 1149.2060 | Val Loss: 1143.2173\n"
     ]
    }
   ],
   "execution_count": 18
  },
  {
   "metadata": {
    "ExecuteTime": {
     "end_time": "2025-06-06T21:55:25.367757Z",
     "start_time": "2025-06-06T21:55:25.363765Z"
    }
   },
   "cell_type": "code",
   "source": [
    "print(np.isnan(X_train.values).sum(), np.isinf(X_train.values).sum())\n",
    "print(np.isnan(y_train.values).sum(), np.isinf(y_train.values).sum())"
   ],
   "id": "e540a6681e82040b",
   "outputs": [
    {
     "name": "stdout",
     "output_type": "stream",
     "text": [
      "0 0\n",
      "0 0\n"
     ]
    }
   ],
   "execution_count": 19
  },
  {
   "metadata": {
    "ExecuteTime": {
     "end_time": "2025-06-06T21:55:53.145121Z",
     "start_time": "2025-06-06T21:55:53.139404Z"
    }
   },
   "cell_type": "code",
   "source": "print(y_train.describe())",
   "id": "817c288b185c01df",
   "outputs": [
    {
     "name": "stdout",
     "output_type": "stream",
     "text": [
      "count    13236.000000\n",
      "mean        33.964037\n",
      "std          7.919881\n",
      "min         18.000000\n",
      "25%         28.000000\n",
      "50%         33.000000\n",
      "75%         38.000000\n",
      "max        100.000000\n",
      "Name: d_age, dtype: float64\n"
     ]
    }
   ],
   "execution_count": 20
  },
  {
   "metadata": {
    "ExecuteTime": {
     "end_time": "2025-06-06T21:56:25.516578Z",
     "start_time": "2025-06-06T21:56:25.487959Z"
    }
   },
   "cell_type": "code",
   "source": [
    "model.eval()\n",
    "model(answers_encoded[0::])"
   ],
   "id": "85b5a5fc1ae27ded",
   "outputs": [
    {
     "ename": "TypeError",
     "evalue": "linear(): argument 'input' (position 1) must be Tensor, not DataFrame",
     "output_type": "error",
     "traceback": [
      "\u001B[0;31m---------------------------------------------------------------------------\u001B[0m",
      "\u001B[0;31mTypeError\u001B[0m                                 Traceback (most recent call last)",
      "\u001B[0;32m/var/folders/x7/gwjk9h594mxb48nxl8w517sm0000gn/T/ipykernel_12003/3040527055.py\u001B[0m in \u001B[0;36m<module>\u001B[0;34m\u001B[0m\n\u001B[1;32m      1\u001B[0m \u001B[0mmodel\u001B[0m\u001B[0;34m.\u001B[0m\u001B[0meval\u001B[0m\u001B[0;34m(\u001B[0m\u001B[0;34m)\u001B[0m\u001B[0;34m\u001B[0m\u001B[0;34m\u001B[0m\u001B[0m\n\u001B[0;32m----> 2\u001B[0;31m \u001B[0mmodel\u001B[0m\u001B[0;34m(\u001B[0m\u001B[0manswers_encoded\u001B[0m\u001B[0;34m[\u001B[0m\u001B[0;36m0\u001B[0m\u001B[0;34m:\u001B[0m\u001B[0;34m:\u001B[0m\u001B[0;34m]\u001B[0m\u001B[0;34m)\u001B[0m\u001B[0;34m\u001B[0m\u001B[0;34m\u001B[0m\u001B[0m\n\u001B[0m",
      "\u001B[0;32m~/opt/anaconda3/lib/python3.9/site-packages/torch/nn/modules/module.py\u001B[0m in \u001B[0;36m_wrapped_call_impl\u001B[0;34m(self, *args, **kwargs)\u001B[0m\n\u001B[1;32m   1509\u001B[0m             \u001B[0;32mreturn\u001B[0m \u001B[0mself\u001B[0m\u001B[0;34m.\u001B[0m\u001B[0m_compiled_call_impl\u001B[0m\u001B[0;34m(\u001B[0m\u001B[0;34m*\u001B[0m\u001B[0margs\u001B[0m\u001B[0;34m,\u001B[0m \u001B[0;34m**\u001B[0m\u001B[0mkwargs\u001B[0m\u001B[0;34m)\u001B[0m  \u001B[0;31m# type: ignore[misc]\u001B[0m\u001B[0;34m\u001B[0m\u001B[0;34m\u001B[0m\u001B[0m\n\u001B[1;32m   1510\u001B[0m         \u001B[0;32melse\u001B[0m\u001B[0;34m:\u001B[0m\u001B[0;34m\u001B[0m\u001B[0;34m\u001B[0m\u001B[0m\n\u001B[0;32m-> 1511\u001B[0;31m             \u001B[0;32mreturn\u001B[0m \u001B[0mself\u001B[0m\u001B[0;34m.\u001B[0m\u001B[0m_call_impl\u001B[0m\u001B[0;34m(\u001B[0m\u001B[0;34m*\u001B[0m\u001B[0margs\u001B[0m\u001B[0;34m,\u001B[0m \u001B[0;34m**\u001B[0m\u001B[0mkwargs\u001B[0m\u001B[0;34m)\u001B[0m\u001B[0;34m\u001B[0m\u001B[0;34m\u001B[0m\u001B[0m\n\u001B[0m\u001B[1;32m   1512\u001B[0m \u001B[0;34m\u001B[0m\u001B[0m\n\u001B[1;32m   1513\u001B[0m     \u001B[0;32mdef\u001B[0m \u001B[0m_call_impl\u001B[0m\u001B[0;34m(\u001B[0m\u001B[0mself\u001B[0m\u001B[0;34m,\u001B[0m \u001B[0;34m*\u001B[0m\u001B[0margs\u001B[0m\u001B[0;34m,\u001B[0m \u001B[0;34m**\u001B[0m\u001B[0mkwargs\u001B[0m\u001B[0;34m)\u001B[0m\u001B[0;34m:\u001B[0m\u001B[0;34m\u001B[0m\u001B[0;34m\u001B[0m\u001B[0m\n",
      "\u001B[0;32m~/opt/anaconda3/lib/python3.9/site-packages/torch/nn/modules/module.py\u001B[0m in \u001B[0;36m_call_impl\u001B[0;34m(self, *args, **kwargs)\u001B[0m\n\u001B[1;32m   1518\u001B[0m                 \u001B[0;32mor\u001B[0m \u001B[0m_global_backward_pre_hooks\u001B[0m \u001B[0;32mor\u001B[0m \u001B[0m_global_backward_hooks\u001B[0m\u001B[0;34m\u001B[0m\u001B[0;34m\u001B[0m\u001B[0m\n\u001B[1;32m   1519\u001B[0m                 or _global_forward_hooks or _global_forward_pre_hooks):\n\u001B[0;32m-> 1520\u001B[0;31m             \u001B[0;32mreturn\u001B[0m \u001B[0mforward_call\u001B[0m\u001B[0;34m(\u001B[0m\u001B[0;34m*\u001B[0m\u001B[0margs\u001B[0m\u001B[0;34m,\u001B[0m \u001B[0;34m**\u001B[0m\u001B[0mkwargs\u001B[0m\u001B[0;34m)\u001B[0m\u001B[0;34m\u001B[0m\u001B[0;34m\u001B[0m\u001B[0m\n\u001B[0m\u001B[1;32m   1521\u001B[0m \u001B[0;34m\u001B[0m\u001B[0m\n\u001B[1;32m   1522\u001B[0m         \u001B[0;32mtry\u001B[0m\u001B[0;34m:\u001B[0m\u001B[0;34m\u001B[0m\u001B[0;34m\u001B[0m\u001B[0m\n",
      "\u001B[0;32m/var/folders/x7/gwjk9h594mxb48nxl8w517sm0000gn/T/ipykernel_12003/521582982.py\u001B[0m in \u001B[0;36mforward\u001B[0;34m(self, x)\u001B[0m\n\u001B[1;32m     36\u001B[0m \u001B[0;34m\u001B[0m\u001B[0m\n\u001B[1;32m     37\u001B[0m     \u001B[0;32mdef\u001B[0m \u001B[0mforward\u001B[0m\u001B[0;34m(\u001B[0m\u001B[0mself\u001B[0m\u001B[0;34m,\u001B[0m \u001B[0mx\u001B[0m\u001B[0;34m)\u001B[0m\u001B[0;34m:\u001B[0m\u001B[0;34m\u001B[0m\u001B[0;34m\u001B[0m\u001B[0m\n\u001B[0;32m---> 38\u001B[0;31m         \u001B[0;32mreturn\u001B[0m \u001B[0mtorch\u001B[0m\u001B[0;34m.\u001B[0m\u001B[0mclamp\u001B[0m\u001B[0;34m(\u001B[0m\u001B[0mself\u001B[0m\u001B[0;34m.\u001B[0m\u001B[0mlayers\u001B[0m\u001B[0;34m(\u001B[0m\u001B[0mx\u001B[0m\u001B[0;34m)\u001B[0m\u001B[0;34m,\u001B[0m \u001B[0mmin\u001B[0m\u001B[0;34m=\u001B[0m\u001B[0;36m1\u001B[0m\u001B[0;34m,\u001B[0m \u001B[0mmax\u001B[0m\u001B[0;34m=\u001B[0m\u001B[0;36m100\u001B[0m\u001B[0;34m)\u001B[0m\u001B[0;34m\u001B[0m\u001B[0;34m\u001B[0m\u001B[0m\n\u001B[0m\u001B[1;32m     39\u001B[0m \u001B[0;34m\u001B[0m\u001B[0m\n\u001B[1;32m     40\u001B[0m \u001B[0;34m\u001B[0m\u001B[0m\n",
      "\u001B[0;32m~/opt/anaconda3/lib/python3.9/site-packages/torch/nn/modules/module.py\u001B[0m in \u001B[0;36m_wrapped_call_impl\u001B[0;34m(self, *args, **kwargs)\u001B[0m\n\u001B[1;32m   1509\u001B[0m             \u001B[0;32mreturn\u001B[0m \u001B[0mself\u001B[0m\u001B[0;34m.\u001B[0m\u001B[0m_compiled_call_impl\u001B[0m\u001B[0;34m(\u001B[0m\u001B[0;34m*\u001B[0m\u001B[0margs\u001B[0m\u001B[0;34m,\u001B[0m \u001B[0;34m**\u001B[0m\u001B[0mkwargs\u001B[0m\u001B[0;34m)\u001B[0m  \u001B[0;31m# type: ignore[misc]\u001B[0m\u001B[0;34m\u001B[0m\u001B[0;34m\u001B[0m\u001B[0m\n\u001B[1;32m   1510\u001B[0m         \u001B[0;32melse\u001B[0m\u001B[0;34m:\u001B[0m\u001B[0;34m\u001B[0m\u001B[0;34m\u001B[0m\u001B[0m\n\u001B[0;32m-> 1511\u001B[0;31m             \u001B[0;32mreturn\u001B[0m \u001B[0mself\u001B[0m\u001B[0;34m.\u001B[0m\u001B[0m_call_impl\u001B[0m\u001B[0;34m(\u001B[0m\u001B[0;34m*\u001B[0m\u001B[0margs\u001B[0m\u001B[0;34m,\u001B[0m \u001B[0;34m**\u001B[0m\u001B[0mkwargs\u001B[0m\u001B[0;34m)\u001B[0m\u001B[0;34m\u001B[0m\u001B[0;34m\u001B[0m\u001B[0m\n\u001B[0m\u001B[1;32m   1512\u001B[0m \u001B[0;34m\u001B[0m\u001B[0m\n\u001B[1;32m   1513\u001B[0m     \u001B[0;32mdef\u001B[0m \u001B[0m_call_impl\u001B[0m\u001B[0;34m(\u001B[0m\u001B[0mself\u001B[0m\u001B[0;34m,\u001B[0m \u001B[0;34m*\u001B[0m\u001B[0margs\u001B[0m\u001B[0;34m,\u001B[0m \u001B[0;34m**\u001B[0m\u001B[0mkwargs\u001B[0m\u001B[0;34m)\u001B[0m\u001B[0;34m:\u001B[0m\u001B[0;34m\u001B[0m\u001B[0;34m\u001B[0m\u001B[0m\n",
      "\u001B[0;32m~/opt/anaconda3/lib/python3.9/site-packages/torch/nn/modules/module.py\u001B[0m in \u001B[0;36m_call_impl\u001B[0;34m(self, *args, **kwargs)\u001B[0m\n\u001B[1;32m   1518\u001B[0m                 \u001B[0;32mor\u001B[0m \u001B[0m_global_backward_pre_hooks\u001B[0m \u001B[0;32mor\u001B[0m \u001B[0m_global_backward_hooks\u001B[0m\u001B[0;34m\u001B[0m\u001B[0;34m\u001B[0m\u001B[0m\n\u001B[1;32m   1519\u001B[0m                 or _global_forward_hooks or _global_forward_pre_hooks):\n\u001B[0;32m-> 1520\u001B[0;31m             \u001B[0;32mreturn\u001B[0m \u001B[0mforward_call\u001B[0m\u001B[0;34m(\u001B[0m\u001B[0;34m*\u001B[0m\u001B[0margs\u001B[0m\u001B[0;34m,\u001B[0m \u001B[0;34m**\u001B[0m\u001B[0mkwargs\u001B[0m\u001B[0;34m)\u001B[0m\u001B[0;34m\u001B[0m\u001B[0;34m\u001B[0m\u001B[0m\n\u001B[0m\u001B[1;32m   1521\u001B[0m \u001B[0;34m\u001B[0m\u001B[0m\n\u001B[1;32m   1522\u001B[0m         \u001B[0;32mtry\u001B[0m\u001B[0;34m:\u001B[0m\u001B[0;34m\u001B[0m\u001B[0;34m\u001B[0m\u001B[0m\n",
      "\u001B[0;32m~/opt/anaconda3/lib/python3.9/site-packages/torch/nn/modules/container.py\u001B[0m in \u001B[0;36mforward\u001B[0;34m(self, input)\u001B[0m\n\u001B[1;32m    215\u001B[0m     \u001B[0;32mdef\u001B[0m \u001B[0mforward\u001B[0m\u001B[0;34m(\u001B[0m\u001B[0mself\u001B[0m\u001B[0;34m,\u001B[0m \u001B[0minput\u001B[0m\u001B[0;34m)\u001B[0m\u001B[0;34m:\u001B[0m\u001B[0;34m\u001B[0m\u001B[0;34m\u001B[0m\u001B[0m\n\u001B[1;32m    216\u001B[0m         \u001B[0;32mfor\u001B[0m \u001B[0mmodule\u001B[0m \u001B[0;32min\u001B[0m \u001B[0mself\u001B[0m\u001B[0;34m:\u001B[0m\u001B[0;34m\u001B[0m\u001B[0;34m\u001B[0m\u001B[0m\n\u001B[0;32m--> 217\u001B[0;31m             \u001B[0minput\u001B[0m \u001B[0;34m=\u001B[0m \u001B[0mmodule\u001B[0m\u001B[0;34m(\u001B[0m\u001B[0minput\u001B[0m\u001B[0;34m)\u001B[0m\u001B[0;34m\u001B[0m\u001B[0;34m\u001B[0m\u001B[0m\n\u001B[0m\u001B[1;32m    218\u001B[0m         \u001B[0;32mreturn\u001B[0m \u001B[0minput\u001B[0m\u001B[0;34m\u001B[0m\u001B[0;34m\u001B[0m\u001B[0m\n\u001B[1;32m    219\u001B[0m \u001B[0;34m\u001B[0m\u001B[0m\n",
      "\u001B[0;32m~/opt/anaconda3/lib/python3.9/site-packages/torch/nn/modules/module.py\u001B[0m in \u001B[0;36m_wrapped_call_impl\u001B[0;34m(self, *args, **kwargs)\u001B[0m\n\u001B[1;32m   1509\u001B[0m             \u001B[0;32mreturn\u001B[0m \u001B[0mself\u001B[0m\u001B[0;34m.\u001B[0m\u001B[0m_compiled_call_impl\u001B[0m\u001B[0;34m(\u001B[0m\u001B[0;34m*\u001B[0m\u001B[0margs\u001B[0m\u001B[0;34m,\u001B[0m \u001B[0;34m**\u001B[0m\u001B[0mkwargs\u001B[0m\u001B[0;34m)\u001B[0m  \u001B[0;31m# type: ignore[misc]\u001B[0m\u001B[0;34m\u001B[0m\u001B[0;34m\u001B[0m\u001B[0m\n\u001B[1;32m   1510\u001B[0m         \u001B[0;32melse\u001B[0m\u001B[0;34m:\u001B[0m\u001B[0;34m\u001B[0m\u001B[0;34m\u001B[0m\u001B[0m\n\u001B[0;32m-> 1511\u001B[0;31m             \u001B[0;32mreturn\u001B[0m \u001B[0mself\u001B[0m\u001B[0;34m.\u001B[0m\u001B[0m_call_impl\u001B[0m\u001B[0;34m(\u001B[0m\u001B[0;34m*\u001B[0m\u001B[0margs\u001B[0m\u001B[0;34m,\u001B[0m \u001B[0;34m**\u001B[0m\u001B[0mkwargs\u001B[0m\u001B[0;34m)\u001B[0m\u001B[0;34m\u001B[0m\u001B[0;34m\u001B[0m\u001B[0m\n\u001B[0m\u001B[1;32m   1512\u001B[0m \u001B[0;34m\u001B[0m\u001B[0m\n\u001B[1;32m   1513\u001B[0m     \u001B[0;32mdef\u001B[0m \u001B[0m_call_impl\u001B[0m\u001B[0;34m(\u001B[0m\u001B[0mself\u001B[0m\u001B[0;34m,\u001B[0m \u001B[0;34m*\u001B[0m\u001B[0margs\u001B[0m\u001B[0;34m,\u001B[0m \u001B[0;34m**\u001B[0m\u001B[0mkwargs\u001B[0m\u001B[0;34m)\u001B[0m\u001B[0;34m:\u001B[0m\u001B[0;34m\u001B[0m\u001B[0;34m\u001B[0m\u001B[0m\n",
      "\u001B[0;32m~/opt/anaconda3/lib/python3.9/site-packages/torch/nn/modules/module.py\u001B[0m in \u001B[0;36m_call_impl\u001B[0;34m(self, *args, **kwargs)\u001B[0m\n\u001B[1;32m   1518\u001B[0m                 \u001B[0;32mor\u001B[0m \u001B[0m_global_backward_pre_hooks\u001B[0m \u001B[0;32mor\u001B[0m \u001B[0m_global_backward_hooks\u001B[0m\u001B[0;34m\u001B[0m\u001B[0;34m\u001B[0m\u001B[0m\n\u001B[1;32m   1519\u001B[0m                 or _global_forward_hooks or _global_forward_pre_hooks):\n\u001B[0;32m-> 1520\u001B[0;31m             \u001B[0;32mreturn\u001B[0m \u001B[0mforward_call\u001B[0m\u001B[0;34m(\u001B[0m\u001B[0;34m*\u001B[0m\u001B[0margs\u001B[0m\u001B[0;34m,\u001B[0m \u001B[0;34m**\u001B[0m\u001B[0mkwargs\u001B[0m\u001B[0;34m)\u001B[0m\u001B[0;34m\u001B[0m\u001B[0;34m\u001B[0m\u001B[0m\n\u001B[0m\u001B[1;32m   1521\u001B[0m \u001B[0;34m\u001B[0m\u001B[0m\n\u001B[1;32m   1522\u001B[0m         \u001B[0;32mtry\u001B[0m\u001B[0;34m:\u001B[0m\u001B[0;34m\u001B[0m\u001B[0;34m\u001B[0m\u001B[0m\n",
      "\u001B[0;32m~/opt/anaconda3/lib/python3.9/site-packages/torch/nn/modules/linear.py\u001B[0m in \u001B[0;36mforward\u001B[0;34m(self, input)\u001B[0m\n\u001B[1;32m    114\u001B[0m \u001B[0;34m\u001B[0m\u001B[0m\n\u001B[1;32m    115\u001B[0m     \u001B[0;32mdef\u001B[0m \u001B[0mforward\u001B[0m\u001B[0;34m(\u001B[0m\u001B[0mself\u001B[0m\u001B[0;34m,\u001B[0m \u001B[0minput\u001B[0m\u001B[0;34m:\u001B[0m \u001B[0mTensor\u001B[0m\u001B[0;34m)\u001B[0m \u001B[0;34m->\u001B[0m \u001B[0mTensor\u001B[0m\u001B[0;34m:\u001B[0m\u001B[0;34m\u001B[0m\u001B[0;34m\u001B[0m\u001B[0m\n\u001B[0;32m--> 116\u001B[0;31m         \u001B[0;32mreturn\u001B[0m \u001B[0mF\u001B[0m\u001B[0;34m.\u001B[0m\u001B[0mlinear\u001B[0m\u001B[0;34m(\u001B[0m\u001B[0minput\u001B[0m\u001B[0;34m,\u001B[0m \u001B[0mself\u001B[0m\u001B[0;34m.\u001B[0m\u001B[0mweight\u001B[0m\u001B[0;34m,\u001B[0m \u001B[0mself\u001B[0m\u001B[0;34m.\u001B[0m\u001B[0mbias\u001B[0m\u001B[0;34m)\u001B[0m\u001B[0;34m\u001B[0m\u001B[0;34m\u001B[0m\u001B[0m\n\u001B[0m\u001B[1;32m    117\u001B[0m \u001B[0;34m\u001B[0m\u001B[0m\n\u001B[1;32m    118\u001B[0m     \u001B[0;32mdef\u001B[0m \u001B[0mextra_repr\u001B[0m\u001B[0;34m(\u001B[0m\u001B[0mself\u001B[0m\u001B[0;34m)\u001B[0m \u001B[0;34m->\u001B[0m \u001B[0mstr\u001B[0m\u001B[0;34m:\u001B[0m\u001B[0;34m\u001B[0m\u001B[0;34m\u001B[0m\u001B[0m\n",
      "\u001B[0;31mTypeError\u001B[0m: linear(): argument 'input' (position 1) must be Tensor, not DataFrame"
     ]
    }
   ],
   "execution_count": 22
  },
  {
   "metadata": {
    "ExecuteTime": {
     "end_time": "2025-06-06T21:57:19.619910Z",
     "start_time": "2025-06-06T21:57:19.616955Z"
    }
   },
   "cell_type": "code",
   "source": "train_loader.sampler",
   "id": "60506f1fa7b77fe6",
   "outputs": [
    {
     "data": {
      "text/plain": [
       "<torch.utils.data.sampler.RandomSampler at 0x7feb903f7520>"
      ]
     },
     "execution_count": 26,
     "metadata": {},
     "output_type": "execute_result"
    }
   ],
   "execution_count": 26
  },
  {
   "metadata": {},
   "cell_type": "code",
   "outputs": [],
   "execution_count": null,
   "source": "",
   "id": "4bdc2e0259427e94"
  }
 ],
 "metadata": {},
 "nbformat": 4,
 "nbformat_minor": 5
}
