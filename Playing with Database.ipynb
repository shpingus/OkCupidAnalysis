{
 "cells": [
  {
   "metadata": {},
   "cell_type": "markdown",
   "source": "## Imports",
   "id": "aa34613b8386ea50"
  },
  {
   "metadata": {
    "ExecuteTime": {
     "end_time": "2025-06-06T21:47:38.516729Z",
     "start_time": "2025-06-06T21:47:38.512720Z"
    }
   },
   "cell_type": "code",
   "source": [
    "import torch\n",
    "\n",
    "if torch.backends.mps.is_available() and torch.backends.mps.is_built():\n",
    "    print('Using MPS')\n",
    "    device = torch.device(\"mps\")\n",
    "elif torch.backends.cuda.is_built():\n",
    "    print('Using CUDA')\n",
    "    device = torch.device(\"cuda\")\n",
    "else:\n",
    "    print('Using CPU')\n",
    "    device = torch.device(\"cpu\")"
   ],
   "id": "dfb4a5ac3c6bee57",
   "outputs": [
    {
     "name": "stdout",
     "output_type": "stream",
     "text": [
      "Using MPS\n"
     ]
    }
   ],
   "execution_count": 3
  },
  {
   "metadata": {
    "ExecuteTime": {
     "end_time": "2025-06-06T21:50:10.070283Z",
     "start_time": "2025-06-06T21:50:10.067933Z"
    }
   },
   "cell_type": "code",
   "source": [
    "import pandas as pd\n",
    "from sklearn.model_selection import train_test_split\n",
    "from tqdm.auto import tqdm"
   ],
   "id": "cd620814bca175c",
   "outputs": [],
   "execution_count": 11
  },
  {
   "metadata": {},
   "cell_type": "markdown",
   "source": "## Main Load",
   "id": "49f38c3bb20a31ff"
  },
  {
   "metadata": {
    "ExecuteTime": {
     "end_time": "2025-06-06T21:48:05.188195Z",
     "start_time": "2025-06-06T21:47:44.204935Z"
    }
   },
   "cell_type": "code",
   "source": "csv = pd.read_csv('data/user_data_public.csv', low_memory=False)",
   "id": "e373b176327cf774",
   "outputs": [],
   "execution_count": 4
  },
  {
   "metadata": {
    "ExecuteTime": {
     "end_time": "2025-06-06T21:41:26.091743Z",
     "start_time": "2025-06-06T21:41:26.074080Z"
    }
   },
   "cell_type": "code",
   "source": "filtered_df = csv.loc[:, ~csv.columns.str.match(r'^q\\d+')]",
   "id": "dc746d8ba010c28b",
   "outputs": [],
   "execution_count": 4
  },
  {
   "metadata": {},
   "cell_type": "code",
   "outputs": [],
   "execution_count": null,
   "source": "# f = filtered_df.d_country.value_counts().where(filtered_df.d_country.value_counts() > 100)",
   "id": "7d37734f6f75786c"
  },
  {
   "metadata": {},
   "cell_type": "markdown",
   "source": "## A Little Experiment - Checking bodytype v sexual orientation correlations in Men",
   "id": "55e0b13a16ff7270"
  },
  {
   "metadata": {},
   "cell_type": "code",
   "outputs": [],
   "execution_count": null,
   "source": [
    "import numpy as np\n",
    "\n",
    "# Filtering NA\n",
    "bodytype_orientation = filtered_df[['d_bodytype', 'd_orientation', 'gender']].dropna()\n",
    "\n",
    "# Filtering men only\n",
    "bodytype_orientation = bodytype_orientation[\n",
    "    (bodytype_orientation.gender == 'Man') & (bodytype_orientation.d_bodytype != 'Rather not say')].drop(\n",
    "    columns=['gender'])\n",
    "\n",
    "bodytype_orientation.d_orientation.unique()\n",
    "# Distinguishing likely homosexual group from rest of men. Identified ['Gay', 'Gay, Queer', 'Gay, Sapiosexual'] as potential homosexual groups. Others  varied\n",
    "\n",
    "potential_homosexual_groups = ['Gay', 'Gay, Queer']\n",
    "# bodytype_orientation = bodytype_orientation[bodytype_orientation.d_orientation.isin(potential_homosexual_groups + ['Straight'])]\n",
    "\n",
    "# Create the new column with 'h' for homosexual and 'o' for others\n",
    "bodytype_orientation['d_orientation'] = np.where(\n",
    "    bodytype_orientation['d_orientation'].isin(potential_homosexual_groups),\n",
    "    'h',\n",
    "    'o'\n",
    ")\n",
    "bodytype_orientation.value_counts()"
   ],
   "id": "9e794828fa10b1d3"
  },
  {
   "metadata": {},
   "cell_type": "code",
   "outputs": [],
   "execution_count": null,
   "source": [
    "(bodytype_orientation[\n",
    "     bodytype_orientation.d_bodytype == 'Jacked'].d_orientation.value_counts() / bodytype_orientation.d_orientation.value_counts())"
   ],
   "id": "851729edc06d1d86"
  },
  {
   "metadata": {},
   "cell_type": "code",
   "outputs": [],
   "execution_count": null,
   "source": [
    "bodytype_orientation.d_orientation.value_counts()\n",
    "# bodytype_orientation[bodytype_orientation.d_bodytype == 'Overwight'].value_counts() / bodytype_orientation.d_orientation.value_counts()"
   ],
   "id": "3c05ac6e8744dc21"
  },
  {
   "metadata": {},
   "cell_type": "markdown",
   "source": "## Mixed Matchmaking",
   "id": "3be4fcaf50db14c0"
  },
  {
   "metadata": {},
   "cell_type": "code",
   "outputs": [],
   "execution_count": null,
   "source": "csv[csv.q71 == 'Yes'].race.value_counts() / csv[csv.q71.isin(['Yes', 'No'])].race.value_counts()",
   "id": "30f4f422420ebe1c"
  },
  {
   "metadata": {},
   "cell_type": "code",
   "outputs": [],
   "execution_count": null,
   "source": [
    "religions_csv = csv[['q71', 'd_religion_type', 'gender', 'race']].dropna(subset=['d_religion_type', 'q71'])\n",
    "religions_csv = religions_csv[religions_csv['d_religion_type'] != '-']\n",
    "religions_csv.d_religion_type.value_counts()"
   ],
   "id": "b17bf2beafa2c7a7"
  },
  {
   "metadata": {},
   "cell_type": "code",
   "outputs": [],
   "execution_count": null,
   "source": "bad_idea_boolean = religions_csv.q71 == 'Yes'",
   "id": "865ffeaec9a62c6c"
  },
  {
   "metadata": {},
   "cell_type": "code",
   "outputs": [],
   "execution_count": null,
   "source": "religions_csv[bad_idea_boolean].d_religion_type.value_counts() / religions_csv.d_religion_type.value_counts()",
   "id": "262cb87f8ee770de"
  },
  {
   "metadata": {},
   "cell_type": "markdown",
   "source": "## Police/Coutnry Safety",
   "id": "cdd73f71268a50fe"
  },
  {
   "metadata": {},
   "cell_type": "code",
   "outputs": [],
   "execution_count": null,
   "source": [
    "# q6109\n",
    "safety = csv[['q6109', 'race', 'gender', 'd_country']].dropna(subset='q6109')"
   ],
   "id": "f7fd074975f429ba"
  },
  {
   "metadata": {},
   "cell_type": "code",
   "outputs": [],
   "execution_count": null,
   "source": "safety",
   "id": "18babe2f03528a00"
  },
  {
   "metadata": {},
   "cell_type": "markdown",
   "source": "## PCA",
   "id": "c5b238f325002535"
  },
  {
   "metadata": {
    "ExecuteTime": {
     "end_time": "2025-06-06T21:00:13.799732Z",
     "start_time": "2025-06-06T21:00:13.723732Z"
    }
   },
   "cell_type": "code",
   "source": [
    "import random\n",
    "from sklearn.preprocessing import StandardScaler\n",
    "\n",
    "df = filtered_df.drop(columns=['CA', 'CA_items'])  # Remove uninterpreted columns\n",
    "df = df.dropna(subset=['d_gender', 'd_age', 'p_ambi'])  # Core features\n",
    "\n",
    "# Encode categoricals\n",
    "cat_cols = ['d_astrology_sign', 'd_education_type', 'd_ethnicity']\n",
    "df = pd.get_dummies(df, columns=cat_cols, drop_first=True)\n",
    "\n",
    "# Normalize personality traits\n",
    "p_cols = [c for c in df.columns if c.startswith('p_')]\n",
    "scaler = StandardScaler()\n",
    "df[p_cols] = scaler.fit_transform(df[p_cols].fillna(df[p_cols].mean()))"
   ],
   "id": "243811b93cc23452",
   "outputs": [],
   "execution_count": 31
  },
  {
   "metadata": {
    "ExecuteTime": {
     "end_time": "2025-06-06T21:01:13.262316Z",
     "start_time": "2025-06-06T21:00:43.689239Z"
    }
   },
   "cell_type": "code",
   "source": [
    "from sklearn.decomposition import PCA\n",
    "from sklearn.manifold import TSNE\n",
    "\n",
    "# PCA for visualization\n",
    "pca = PCA(n_components=0.95)\n",
    "pca_features = pca.fit_transform(df[p_cols])\n",
    "\n",
    "# t-SNE for cluster separation\n",
    "tsne = TSNE(n_components=2, perplexity=30)\n",
    "tsne_results = tsne.fit_transform(pca_features)\n"
   ],
   "id": "fc40de25c71b6eb7",
   "outputs": [
    {
     "name": "stderr",
     "output_type": "stream",
     "text": [
      "/Users/david/opt/anaconda3/lib/python3.9/site-packages/sklearn/manifold/_t_sne.py:780: FutureWarning: The default initialization in TSNE will change from 'random' to 'pca' in 1.2.\n",
      "  warnings.warn(\n",
      "/Users/david/opt/anaconda3/lib/python3.9/site-packages/sklearn/manifold/_t_sne.py:790: FutureWarning: The default learning rate in TSNE will change from 200.0 to 'auto' in 1.2.\n",
      "  warnings.warn(\n"
     ]
    }
   ],
   "execution_count": 33
  },
  {
   "metadata": {
    "ExecuteTime": {
     "end_time": "2025-06-06T21:01:25.924283Z",
     "start_time": "2025-06-06T21:01:13.283124Z"
    }
   },
   "cell_type": "code",
   "source": [
    "from sklearn.metrics import silhouette_score\n",
    "from sklearn.cluster import KMeans\n",
    "\n",
    "# Determine optimal clusters\n",
    "silhouette_scores = []\n",
    "for k in range(2, 8):\n",
    "    kmeans = KMeans(n_clusters=k)\n",
    "    labels = kmeans.fit_predict(pca_features)\n",
    "    silhouette_scores.append(silhouette_score(pca_features, labels))\n",
    "\n",
    "# Final clustering\n",
    "optimal_k = np.argmax(silhouette_scores) + 2\n",
    "kmeans = KMeans(n_clusters=optimal_k)\n",
    "df['cluster'] = kmeans.fit_predict(pca_features)\n"
   ],
   "id": "382fe41d8b5a2a7b",
   "outputs": [],
   "execution_count": 34
  },
  {
   "metadata": {
    "ExecuteTime": {
     "end_time": "2025-06-06T21:01:25.960244Z",
     "start_time": "2025-06-06T21:01:25.951561Z"
    }
   },
   "cell_type": "code",
   "source": [
    "# Cluster characteristics\n",
    "cluster_profiles = df.groupby\n",
    "cluster_profiles"
   ],
   "id": "40501e28d6d892f1",
   "outputs": [
    {
     "data": {
      "text/plain": [
       "<bound method DataFrame.groupby of              p_conf        d_astrology_seriosity    p_laidback  \\\n",
       "3     -6.539848e-16                          NaN  9.601352e-16   \n",
       "5     -6.539848e-16        but it doesn't matter  9.601352e-16   \n",
       "6     -6.539848e-16                          NaN  9.601352e-16   \n",
       "22    -6.539848e-16  and it's fun to think about  9.601352e-16   \n",
       "23    -6.539848e-16                          NaN  9.601352e-16   \n",
       "...             ...                          ...           ...   \n",
       "68363 -6.539848e-16  and it's fun to think about -4.200165e-02   \n",
       "68364 -6.539848e-16  and it's fun to think about  9.601352e-16   \n",
       "68365 -6.539848e-16                          NaN -2.879669e+00   \n",
       "68369 -6.539848e-16                          NaN  9.601352e-16   \n",
       "68370 -6.539848e-16                          NaN  9.601352e-16   \n",
       "\n",
       "      d_education_phase  p_drug  \\\n",
       "3            Working on     0.0   \n",
       "5        Dropped out of     0.0   \n",
       "6            Working on     0.0   \n",
       "22                  NaN     0.0   \n",
       "23                  NaN     0.0   \n",
       "...                 ...     ...   \n",
       "68363        Working on     0.0   \n",
       "68364        Working on     0.0   \n",
       "68365    Dropped out of     0.0   \n",
       "68369    Graduated from     0.0   \n",
       "68370    Graduated from     0.0   \n",
       "\n",
       "                                                d_gender         p_lit  \\\n",
       "3                                                  Woman  2.776957e-01   \n",
       "5                                                    Man -1.251023e-17   \n",
       "6      Transgender, Transfeminine, Non-binary, Gender... -1.251023e-17   \n",
       "22                                                 Woman -1.018149e+00   \n",
       "23                                                 Woman  3.340368e-01   \n",
       "...                                                  ...           ...   \n",
       "68363                                              Woman -2.144970e+00   \n",
       "68364                                                Man -1.187172e+00   \n",
       "68365                                                Man  4.748894e-01   \n",
       "68369                                              Woman -1.251023e-17   \n",
       "68370                                                Man -3.138855e-01   \n",
       "\n",
       "         p_progress         d_income   p_roman  ...  \\\n",
       "3      1.221034e-16              NaN -1.492491  ...   \n",
       "5      1.221034e-16              NaN  0.000000  ...   \n",
       "6      1.221034e-16              NaN  0.000000  ...   \n",
       "22     1.221034e-16  $50,000-$60,000  0.000000  ...   \n",
       "23     1.221034e-16              NaN -2.307060  ...   \n",
       "...             ...              ...       ...  ...   \n",
       "68363  1.221034e-16   Rather not say  0.355954  ...   \n",
       "68364 -1.165216e+01   Rather not say  0.000000  ...   \n",
       "68365  1.221034e-16  $20,000-$30,000  2.423707  ...   \n",
       "68369  1.221034e-16              NaN -0.270637  ...   \n",
       "68370  1.221034e-16              NaN  0.794568  ...   \n",
       "\n",
       "       d_ethnicity_Pacific Islander  \\\n",
       "3                                 0   \n",
       "5                                 0   \n",
       "6                                 0   \n",
       "22                                0   \n",
       "23                                0   \n",
       "...                             ...   \n",
       "68363                             0   \n",
       "68364                             0   \n",
       "68365                             0   \n",
       "68369                             0   \n",
       "68370                             0   \n",
       "\n",
       "      d_ethnicity_Pacific Islander, Hispanic / Latin  \\\n",
       "3                                                  0   \n",
       "5                                                  0   \n",
       "6                                                  0   \n",
       "22                                                 0   \n",
       "23                                                 0   \n",
       "...                                              ...   \n",
       "68363                                              0   \n",
       "68364                                              0   \n",
       "68365                                              0   \n",
       "68369                                              0   \n",
       "68370                                              0   \n",
       "\n",
       "      d_ethnicity_Pacific Islander, Hispanic / Latin, White  \\\n",
       "3                                                      0      \n",
       "5                                                      0      \n",
       "6                                                      0      \n",
       "22                                                     0      \n",
       "23                                                     0      \n",
       "...                                                  ...      \n",
       "68363                                                  0      \n",
       "68364                                                  0      \n",
       "68365                                                  0      \n",
       "68369                                                  0      \n",
       "68370                                                  0      \n",
       "\n",
       "       d_ethnicity_Pacific Islander, Hispanic / Latin, White, Other  \\\n",
       "3                                                      0              \n",
       "5                                                      0              \n",
       "6                                                      0              \n",
       "22                                                     0              \n",
       "23                                                     0              \n",
       "...                                                  ...              \n",
       "68363                                                  0              \n",
       "68364                                                  0              \n",
       "68365                                                  0              \n",
       "68369                                                  0              \n",
       "68370                                                  0              \n",
       "\n",
       "       d_ethnicity_Pacific Islander, Other  \\\n",
       "3                                        0   \n",
       "5                                        0   \n",
       "6                                        0   \n",
       "22                                       0   \n",
       "23                                       0   \n",
       "...                                    ...   \n",
       "68363                                    0   \n",
       "68364                                    0   \n",
       "68365                                    0   \n",
       "68369                                    0   \n",
       "68370                                    0   \n",
       "\n",
       "      d_ethnicity_Pacific Islander, White  \\\n",
       "3                                       0   \n",
       "5                                       0   \n",
       "6                                       0   \n",
       "22                                      0   \n",
       "23                                      0   \n",
       "...                                   ...   \n",
       "68363                                   0   \n",
       "68364                                   0   \n",
       "68365                                   0   \n",
       "68369                                   0   \n",
       "68370                                   0   \n",
       "\n",
       "      d_ethnicity_Pacific Islander, White, Other  d_ethnicity_White  \\\n",
       "3                                              0                  1   \n",
       "5                                              0                  1   \n",
       "6                                              0                  1   \n",
       "22                                             0                  1   \n",
       "23                                             0                  0   \n",
       "...                                          ...                ...   \n",
       "68363                                          0                  1   \n",
       "68364                                          0                  1   \n",
       "68365                                          0                  1   \n",
       "68369                                          0                  1   \n",
       "68370                                          0                  0   \n",
       "\n",
       "       d_ethnicity_White, Other  cluster  \n",
       "3                             0        1  \n",
       "5                             0        1  \n",
       "6                             0        1  \n",
       "22                            0        1  \n",
       "23                            0        1  \n",
       "...                         ...      ...  \n",
       "68363                         0        0  \n",
       "68364                         0        0  \n",
       "68365                         0        1  \n",
       "68369                         0        0  \n",
       "68370                         0        0  \n",
       "\n",
       "[17978 rows x 234 columns]>"
      ]
     },
     "execution_count": 35,
     "metadata": {},
     "output_type": "execute_result"
    }
   ],
   "execution_count": 35
  },
  {
   "metadata": {},
   "cell_type": "markdown",
   "source": "## Top Questions",
   "id": "d02d4f3b0cabed2"
  },
  {
   "metadata": {
    "ExecuteTime": {
     "end_time": "2025-06-06T21:49:33.278976Z",
     "start_time": "2025-06-06T21:49:33.266852Z"
    }
   },
   "cell_type": "code",
   "source": [
    "import pandas as pd\n",
    "\n",
    "# Read the data\n",
    "question_csv = pd.read_csv('data/question_data.csv', delimiter=';', low_memory=False)\n"
   ],
   "id": "c74238ed6927737d",
   "outputs": [],
   "execution_count": 5
  },
  {
   "metadata": {
    "ExecuteTime": {
     "end_time": "2025-06-07T07:40:52.102781Z",
     "start_time": "2025-06-07T07:40:51.054986Z"
    }
   },
   "cell_type": "code",
   "source": [
    "# Get high-response questions\n",
    "question_cols = list(\n",
    "    filter(lambda st: st[0] == 'q', question_csv.loc[question_csv.N > 50000, 'question'].dropna().tolist()))\n",
    "\n",
    "# Drop rows in csv with any NaNs in selected question columns\n",
    "answerers = csv.dropna(subset=question_cols)\n",
    "\n",
    "# Subset the answer columns\n",
    "answers_raw = answerers[question_cols]\n",
    "\n",
    "# One-hot encode categorical answers\n",
    "answers_encoded = pd.get_dummies(answers_raw, columns=question_cols)\n",
    "\n",
    "# Add age as target\n",
    "answers_encoded['d_age'] = answerers.loc[answers_encoded.index, 'd_age']"
   ],
   "id": "2f172e229bbb891a",
   "outputs": [],
   "execution_count": 33
  },
  {
   "metadata": {
    "ExecuteTime": {
     "end_time": "2025-06-06T21:49:33.869368Z",
     "start_time": "2025-06-06T21:49:33.867715Z"
    }
   },
   "cell_type": "code",
   "source": [
    "# question_cols = list(filter(lambda st: st[0] == 'q', question_csv.loc[question_csv.N > 45000, 'question'].dropna().tolist()))\n",
    "# question_cols"
   ],
   "id": "281c7e0bb70ddbf6",
   "outputs": [],
   "execution_count": 7
  },
  {
   "metadata": {
    "ExecuteTime": {
     "end_time": "2025-06-06T21:49:33.889094Z",
     "start_time": "2025-06-06T21:49:33.887665Z"
    }
   },
   "cell_type": "code",
   "source": [
    "# answerers = csv.dropna(subset=question_cols)\n",
    "# answers = answerers[question_cols + ['d_age']]\n",
    "# answerers"
   ],
   "id": "9f8a5c5bb72c35b1",
   "outputs": [],
   "execution_count": 8
  },
  {
   "metadata": {},
   "cell_type": "markdown",
   "source": "### Creating the data loaders",
   "id": "cce0fffc5e228ab"
  },
  {
   "metadata": {
    "ExecuteTime": {
     "end_time": "2025-06-07T07:40:54.026889Z",
     "start_time": "2025-06-07T07:40:53.993086Z"
    }
   },
   "cell_type": "code",
   "source": [
    "from sklearn.model_selection import train_test_split\n",
    "from sklearn.preprocessing import StandardScaler\n",
    "from torch.utils.data import Dataset, DataLoader\n",
    "\n",
    "\n",
    "# Custom dataset class\n",
    "class QuestionDataset(Dataset):\n",
    "    def __init__(self, X, y):\n",
    "        self.X = torch.FloatTensor(X.values)\n",
    "        self.y = torch.FloatTensor(y.values)\n",
    "\n",
    "    def __len__(self):\n",
    "        return len(self.X)\n",
    "\n",
    "    def __getitem__(self, idx):\n",
    "        return self.X[idx], self.y[idx]\n",
    "\n",
    "\n",
    "# Drop rows with NaNs in features or target before splitting\n",
    "clean_data = answers_encoded.dropna(subset=answers_encoded.columns.tolist() + ['d_age'])\n",
    "\n",
    "X = clean_data.drop(columns='d_age')\n",
    "y = clean_data['d_age']\n",
    "\n",
    "X_train, X_test, y_train, y_test = train_test_split(X, y, test_size=0.2, random_state=42)\n",
    "\n",
    "# Create and apply scaler\n",
    "age_scaler = StandardScaler()\n",
    "y_train_scaled = age_scaler.fit_transform(y_train.values.reshape(-1, 1)).flatten()\n",
    "y_test_scaled = age_scaler.transform(y_test.values.reshape(-1, 1)).flatten()\n",
    "\n",
    "# Create datasets\n",
    "train_dataset = QuestionDataset(X_train, pd.Series(y_train_scaled))\n",
    "test_dataset = QuestionDataset(X_test, pd.Series(y_test_scaled))\n",
    "\n",
    "# Create dataloaders\n",
    "train_loader = DataLoader(train_dataset, batch_size=64, shuffle=True)\n",
    "test_loader = DataLoader(test_dataset, batch_size=64)"
   ],
   "id": "475b25f1fd09de26",
   "outputs": [],
   "execution_count": 34
  },
  {
   "metadata": {
    "ExecuteTime": {
     "end_time": "2025-06-07T07:41:13.100546Z",
     "start_time": "2025-06-07T07:40:54.430577Z"
    }
   },
   "cell_type": "code",
   "source": [
    "import torch\n",
    "import torch.nn as nn\n",
    "import torch.optim as optim\n",
    "import numpy as np\n",
    "\n",
    "\n",
    "# Neural network model\n",
    "class AgePredictor(nn.Module):\n",
    "    def __init__(self, input_size):\n",
    "        super(AgePredictor, self).__init__()\n",
    "        self.layers = nn.Sequential(\n",
    "            nn.Linear(input_size, 64),\n",
    "            nn.ReLU(),\n",
    "            nn.Linear(64, 32),\n",
    "            nn.ReLU(),\n",
    "            nn.Linear(32, 1)\n",
    "        )\n",
    "\n",
    "    def forward(self, x):\n",
    "        return self.layers(x)\n",
    "\n",
    "\n",
    "# Initialize model, loss and optimizer\n",
    "model = AgePredictor(X_train.shape[1]).to(device)\n",
    "criterion = nn.MSELoss()\n",
    "optimizer = optim.Adam(model.parameters(), lr=1e-3, weight_decay=1e-4)\n",
    "# Training loop\n",
    "\n",
    "num_epochs = 10\n",
    "# Compute total steps\n",
    "total_steps = num_epochs * (len(train_loader) + len(test_loader))\n",
    "progress_bar = tqdm(total=total_steps, desc=\"Training Progress\", leave=False)\n",
    "for epoch in range(num_epochs):\n",
    "    model.train()\n",
    "    train_loss_total = 0.0\n",
    "    for inputs, targets in train_loader:\n",
    "        inputs, targets = inputs.to(device), targets.to(device)\n",
    "        optimizer.zero_grad()\n",
    "        outputs = model(inputs)\n",
    "        loss = criterion(outputs.squeeze(), targets)\n",
    "        loss.backward()\n",
    "        optimizer.step()\n",
    "\n",
    "        train_loss_total += loss.item()\n",
    "        progress_bar.update(1)\n",
    "        progress_bar.set_description(f\"Epoch {epoch + 1}/{num_epochs} [Train]\")\n",
    "        progress_bar.set_postfix(loss=loss.item())\n",
    "\n",
    "    model.eval()\n",
    "    val_loss_total = 0.0\n",
    "    with torch.no_grad():\n",
    "        for inputs, targets in test_loader:\n",
    "            inputs, targets = inputs.to(device), targets.to(device)\n",
    "            outputs = model(inputs)\n",
    "            loss = criterion(outputs.squeeze(), targets).item()\n",
    "            val_loss_total += loss\n",
    "            progress_bar.update(1)\n",
    "            progress_bar.set_description(f\"Epoch {epoch + 1}/{num_epochs} [Val]\")\n",
    "            progress_bar.set_postfix(loss=loss)\n",
    "\n",
    "    # Print epoch summary\n",
    "    print(f\"Epoch {epoch + 1}/{num_epochs} - \"\n",
    "          f\"Train Loss: {train_loss_total / len(train_loader):.4f} | \"\n",
    "          f\"Val Loss: {val_loss_total / len(test_loader):.4f}\")\n",
    "\n",
    "progress_bar.close()\n",
    "\n"
   ],
   "id": "c47c2056b6dbeb16",
   "outputs": [
    {
     "data": {
      "text/plain": [
       "Training Progress:   0%|          | 0/4070 [00:00<?, ?it/s]"
      ],
      "application/vnd.jupyter.widget-view+json": {
       "version_major": 2,
       "version_minor": 0,
       "model_id": "4620a8d5c426417cb5df6131c5568806"
      }
     },
     "metadata": {},
     "output_type": "display_data"
    },
    {
     "name": "stdout",
     "output_type": "stream",
     "text": [
      "Epoch 1/10 - Train Loss: 0.8564 | Val Loss: 0.7913\n",
      "Epoch 2/10 - Train Loss: 0.8231 | Val Loss: 0.7856\n",
      "Epoch 3/10 - Train Loss: 0.8158 | Val Loss: 0.7901\n",
      "Epoch 4/10 - Train Loss: 0.8123 | Val Loss: 0.7814\n",
      "Epoch 5/10 - Train Loss: 0.8066 | Val Loss: 0.7843\n",
      "Epoch 6/10 - Train Loss: 0.8018 | Val Loss: 0.7814\n",
      "Epoch 7/10 - Train Loss: 0.7963 | Val Loss: 0.7806\n",
      "Epoch 8/10 - Train Loss: 0.7937 | Val Loss: 0.7799\n",
      "Epoch 9/10 - Train Loss: 0.7876 | Val Loss: 0.7832\n",
      "Epoch 10/10 - Train Loss: 0.7819 | Val Loss: 0.7840\n"
     ]
    }
   ],
   "execution_count": 35
  },
  {
   "metadata": {
    "ExecuteTime": {
     "end_time": "2025-06-07T08:41:58.064177Z",
     "start_time": "2025-06-07T08:41:58.058302Z"
    }
   },
   "cell_type": "code",
   "source": "model",
   "id": "e540a6681e82040b",
   "outputs": [
    {
     "data": {
      "text/plain": [
       "AgePredictor(\n",
       "  (layers): Sequential(\n",
       "    (0): Linear(in_features=66, out_features=64, bias=True)\n",
       "    (1): ReLU()\n",
       "    (2): Linear(in_features=64, out_features=32, bias=True)\n",
       "    (3): ReLU()\n",
       "    (4): Linear(in_features=32, out_features=1, bias=True)\n",
       "  )\n",
       ")"
      ]
     },
     "execution_count": 37,
     "metadata": {},
     "output_type": "execute_result"
    }
   ],
   "execution_count": 37
  },
  {
   "metadata": {},
   "cell_type": "markdown",
   "source": "",
   "id": "350cdfb3c4f61cb9"
  },
  {
   "metadata": {
    "ExecuteTime": {
     "end_time": "2025-06-07T08:45:05.992Z",
     "start_time": "2025-06-07T08:45:05.908407Z"
    }
   },
   "cell_type": "code",
   "source": [
    "sample_X = X_test.sample(100, random_state=42)\n",
    "sample_y = y_test.loc[sample_X.index]\n",
    "model.eval()\n",
    "with torch.no_grad():\n",
    "    inputs = torch.FloatTensor(sample_X.values).to(device)\n",
    "    outputs = age_scaler.inverse_transform(model(inputs).cpu().numpy().reshape(-1, 1)).flatten()\n",
    "for i, (true_age, pred_age) in enumerate(zip(sample_y.values, outputs)):\n",
    "    print(f\"Sample {i + 1} — True Age: {true_age:.1f}, Predicted Age: {pred_age:.1f}\")\n",
    "\n",
    "import matplotlib.pyplot as plt\n",
    "\n",
    "plt.figure(figsize=(6, 4))\n",
    "plt.plot(sample_y.values, label='True Age', marker='o')\n",
    "plt.plot(outputs, label='Predicted Age', marker='x')\n",
    "plt.title('Predicted vs True Ages (Sample)')\n",
    "plt.legend()\n",
    "plt.xlabel('Sample')\n",
    "plt.ylabel('Age')\n",
    "plt.grid(True)\n",
    "plt.show()"
   ],
   "id": "817c288b185c01df",
   "outputs": [
    {
     "name": "stdout",
     "output_type": "stream",
     "text": [
      "Sample 1 — True Age: 31.0, Predicted Age: 31.5\n",
      "Sample 2 — True Age: 36.0, Predicted Age: 28.5\n",
      "Sample 3 — True Age: 32.0, Predicted Age: 27.4\n",
      "Sample 4 — True Age: 23.0, Predicted Age: 17.7\n",
      "Sample 5 — True Age: 29.0, Predicted Age: 33.6\n",
      "Sample 6 — True Age: 28.0, Predicted Age: 29.1\n",
      "Sample 7 — True Age: 32.0, Predicted Age: 31.0\n",
      "Sample 8 — True Age: 50.0, Predicted Age: 36.3\n",
      "Sample 9 — True Age: 24.0, Predicted Age: 33.5\n",
      "Sample 10 — True Age: 38.0, Predicted Age: 34.8\n",
      "Sample 11 — True Age: 34.0, Predicted Age: 32.2\n",
      "Sample 12 — True Age: 29.0, Predicted Age: 30.9\n",
      "Sample 13 — True Age: 29.0, Predicted Age: 36.6\n",
      "Sample 14 — True Age: 36.0, Predicted Age: 33.1\n",
      "Sample 15 — True Age: 34.0, Predicted Age: 33.8\n",
      "Sample 16 — True Age: 32.0, Predicted Age: 31.3\n",
      "Sample 17 — True Age: 32.0, Predicted Age: 33.2\n",
      "Sample 18 — True Age: 24.0, Predicted Age: 34.1\n",
      "Sample 19 — True Age: 45.0, Predicted Age: 33.6\n",
      "Sample 20 — True Age: 35.0, Predicted Age: 35.6\n",
      "Sample 21 — True Age: 28.0, Predicted Age: 29.4\n",
      "Sample 22 — True Age: 26.0, Predicted Age: 36.8\n",
      "Sample 23 — True Age: 41.0, Predicted Age: 33.0\n",
      "Sample 24 — True Age: 27.0, Predicted Age: 28.7\n",
      "Sample 25 — True Age: 28.0, Predicted Age: 26.4\n",
      "Sample 26 — True Age: 30.0, Predicted Age: 36.1\n",
      "Sample 27 — True Age: 45.0, Predicted Age: 32.2\n",
      "Sample 28 — True Age: 42.0, Predicted Age: 39.3\n",
      "Sample 29 — True Age: 22.0, Predicted Age: 28.8\n",
      "Sample 30 — True Age: 32.0, Predicted Age: 34.3\n",
      "Sample 31 — True Age: 30.0, Predicted Age: 32.0\n",
      "Sample 32 — True Age: 43.0, Predicted Age: 29.7\n",
      "Sample 33 — True Age: 30.0, Predicted Age: 30.3\n",
      "Sample 34 — True Age: 40.0, Predicted Age: 35.6\n",
      "Sample 35 — True Age: 32.0, Predicted Age: 32.8\n",
      "Sample 36 — True Age: 30.0, Predicted Age: 41.8\n",
      "Sample 37 — True Age: 34.0, Predicted Age: 29.9\n",
      "Sample 38 — True Age: 32.0, Predicted Age: 30.1\n",
      "Sample 39 — True Age: 31.0, Predicted Age: 28.1\n",
      "Sample 40 — True Age: 31.0, Predicted Age: 35.6\n",
      "Sample 41 — True Age: 26.0, Predicted Age: 27.1\n",
      "Sample 42 — True Age: 44.0, Predicted Age: 38.2\n",
      "Sample 43 — True Age: 32.0, Predicted Age: 31.3\n",
      "Sample 44 — True Age: 45.0, Predicted Age: 36.3\n",
      "Sample 45 — True Age: 36.0, Predicted Age: 34.1\n",
      "Sample 46 — True Age: 29.0, Predicted Age: 30.6\n",
      "Sample 47 — True Age: 38.0, Predicted Age: 32.4\n",
      "Sample 48 — True Age: 30.0, Predicted Age: 31.9\n",
      "Sample 49 — True Age: 47.0, Predicted Age: 43.2\n",
      "Sample 50 — True Age: 26.0, Predicted Age: 31.4\n",
      "Sample 51 — True Age: 32.0, Predicted Age: 30.2\n",
      "Sample 52 — True Age: 26.0, Predicted Age: 34.5\n",
      "Sample 53 — True Age: 48.0, Predicted Age: 38.2\n",
      "Sample 54 — True Age: 34.0, Predicted Age: 29.5\n",
      "Sample 55 — True Age: 32.0, Predicted Age: 22.0\n",
      "Sample 56 — True Age: 44.0, Predicted Age: 34.9\n",
      "Sample 57 — True Age: 29.0, Predicted Age: 38.6\n",
      "Sample 58 — True Age: 31.0, Predicted Age: 32.0\n",
      "Sample 59 — True Age: 34.0, Predicted Age: 29.3\n",
      "Sample 60 — True Age: 35.0, Predicted Age: 31.3\n",
      "Sample 61 — True Age: 29.0, Predicted Age: 44.3\n",
      "Sample 62 — True Age: 39.0, Predicted Age: 32.9\n",
      "Sample 63 — True Age: 28.0, Predicted Age: 33.2\n",
      "Sample 64 — True Age: 31.0, Predicted Age: 33.4\n",
      "Sample 65 — True Age: 35.0, Predicted Age: 33.8\n",
      "Sample 66 — True Age: 32.0, Predicted Age: 30.8\n",
      "Sample 67 — True Age: 37.0, Predicted Age: 27.3\n",
      "Sample 68 — True Age: 27.0, Predicted Age: 26.0\n",
      "Sample 69 — True Age: 36.0, Predicted Age: 32.9\n",
      "Sample 70 — True Age: 27.0, Predicted Age: 36.3\n",
      "Sample 71 — True Age: 22.0, Predicted Age: 27.8\n",
      "Sample 72 — True Age: 26.0, Predicted Age: 31.1\n",
      "Sample 73 — True Age: 21.0, Predicted Age: 23.6\n",
      "Sample 74 — True Age: 33.0, Predicted Age: 34.5\n",
      "Sample 75 — True Age: 35.0, Predicted Age: 30.3\n",
      "Sample 76 — True Age: 30.0, Predicted Age: 28.6\n",
      "Sample 77 — True Age: 25.0, Predicted Age: 33.1\n",
      "Sample 78 — True Age: 24.0, Predicted Age: 23.8\n",
      "Sample 79 — True Age: 42.0, Predicted Age: 32.7\n",
      "Sample 80 — True Age: 34.0, Predicted Age: 27.0\n",
      "Sample 81 — True Age: 36.0, Predicted Age: 33.2\n",
      "Sample 82 — True Age: 36.0, Predicted Age: 36.3\n",
      "Sample 83 — True Age: 30.0, Predicted Age: 34.8\n",
      "Sample 84 — True Age: 29.0, Predicted Age: 28.3\n",
      "Sample 85 — True Age: 40.0, Predicted Age: 33.9\n",
      "Sample 86 — True Age: 21.0, Predicted Age: 28.8\n",
      "Sample 87 — True Age: 22.0, Predicted Age: 26.5\n",
      "Sample 88 — True Age: 23.0, Predicted Age: 25.2\n",
      "Sample 89 — True Age: 42.0, Predicted Age: 28.8\n",
      "Sample 90 — True Age: 31.0, Predicted Age: 33.5\n",
      "Sample 91 — True Age: 40.0, Predicted Age: 31.6\n",
      "Sample 92 — True Age: 42.0, Predicted Age: 32.5\n",
      "Sample 93 — True Age: 30.0, Predicted Age: 32.6\n",
      "Sample 94 — True Age: 21.0, Predicted Age: 31.2\n",
      "Sample 95 — True Age: 31.0, Predicted Age: 32.7\n",
      "Sample 96 — True Age: 26.0, Predicted Age: 30.3\n",
      "Sample 97 — True Age: 34.0, Predicted Age: 36.9\n",
      "Sample 98 — True Age: 27.0, Predicted Age: 33.2\n",
      "Sample 99 — True Age: 24.0, Predicted Age: 29.7\n",
      "Sample 100 — True Age: 18.0, Predicted Age: 27.7\n"
     ]
    },
    {
     "data": {
      "text/plain": [
       "<Figure size 600x400 with 1 Axes>"
      ],
      "image/png": "[encoded data removed]"
     },
     "metadata": {},
     "output_type": "display_data"
    }
   ],
   "execution_count": 45
  },
  {
   "metadata": {
    "ExecuteTime": {
     "end_time": "2025-06-06T21:56:25.516578Z",
     "start_time": "2025-06-06T21:56:25.487959Z"
    }
   },
   "cell_type": "code",
   "source": "",
   "id": "85b5a5fc1ae27ded",
   "outputs": [
    {
     "ename": "TypeError",
     "evalue": "linear(): argument 'input' (position 1) must be Tensor, not DataFrame",
     "output_type": "error",
     "traceback": [
      "\u001B[0;31m---------------------------------------------------------------------------\u001B[0m",
      "\u001B[0;31mTypeError\u001B[0m                                 Traceback (most recent call last)",
      "\u001B[0;32m/var/folders/x7/gwjk9h594mxb48nxl8w517sm0000gn/T/ipykernel_12003/3040527055.py\u001B[0m in \u001B[0;36m<module>\u001B[0;34m\u001B[0m\n\u001B[1;32m      1\u001B[0m \u001B[0mmodel\u001B[0m\u001B[0;34m.\u001B[0m\u001B[0meval\u001B[0m\u001B[0;34m(\u001B[0m\u001B[0;34m)\u001B[0m\u001B[0;34m\u001B[0m\u001B[0;34m\u001B[0m\u001B[0m\n\u001B[0;32m----> 2\u001B[0;31m \u001B[0mmodel\u001B[0m\u001B[0;34m(\u001B[0m\u001B[0manswers_encoded\u001B[0m\u001B[0;34m[\u001B[0m\u001B[0;36m0\u001B[0m\u001B[0;34m:\u001B[0m\u001B[0;34m:\u001B[0m\u001B[0;34m]\u001B[0m\u001B[0;34m)\u001B[0m\u001B[0;34m\u001B[0m\u001B[0;34m\u001B[0m\u001B[0m\n\u001B[0m",
      "\u001B[0;32m~/opt/anaconda3/lib/python3.9/site-packages/torch/nn/modules/module.py\u001B[0m in \u001B[0;36m_wrapped_call_impl\u001B[0;34m(self, *args, **kwargs)\u001B[0m\n\u001B[1;32m   1509\u001B[0m             \u001B[0;32mreturn\u001B[0m \u001B[0mself\u001B[0m\u001B[0;34m.\u001B[0m\u001B[0m_compiled_call_impl\u001B[0m\u001B[0;34m(\u001B[0m\u001B[0;34m*\u001B[0m\u001B[0margs\u001B[0m\u001B[0;34m,\u001B[0m \u001B[0;34m**\u001B[0m\u001B[0mkwargs\u001B[0m\u001B[0;34m)\u001B[0m  \u001B[0;31m# type: ignore[misc]\u001B[0m\u001B[0;34m\u001B[0m\u001B[0;34m\u001B[0m\u001B[0m\n\u001B[1;32m   1510\u001B[0m         \u001B[0;32melse\u001B[0m\u001B[0;34m:\u001B[0m\u001B[0;34m\u001B[0m\u001B[0;34m\u001B[0m\u001B[0m\n\u001B[0;32m-> 1511\u001B[0;31m             \u001B[0;32mreturn\u001B[0m \u001B[0mself\u001B[0m\u001B[0;34m.\u001B[0m\u001B[0m_call_impl\u001B[0m\u001B[0;34m(\u001B[0m\u001B[0;34m*\u001B[0m\u001B[0margs\u001B[0m\u001B[0;34m,\u001B[0m \u001B[0;34m**\u001B[0m\u001B[0mkwargs\u001B[0m\u001B[0;34m)\u001B[0m\u001B[0;34m\u001B[0m\u001B[0;34m\u001B[0m\u001B[0m\n\u001B[0m\u001B[1;32m   1512\u001B[0m \u001B[0;34m\u001B[0m\u001B[0m\n\u001B[1;32m   1513\u001B[0m     \u001B[0;32mdef\u001B[0m \u001B[0m_call_impl\u001B[0m\u001B[0;34m(\u001B[0m\u001B[0mself\u001B[0m\u001B[0;34m,\u001B[0m \u001B[0;34m*\u001B[0m\u001B[0margs\u001B[0m\u001B[0;34m,\u001B[0m \u001B[0;34m**\u001B[0m\u001B[0mkwargs\u001B[0m\u001B[0;34m)\u001B[0m\u001B[0;34m:\u001B[0m\u001B[0;34m\u001B[0m\u001B[0;34m\u001B[0m\u001B[0m\n",
      "\u001B[0;32m~/opt/anaconda3/lib/python3.9/site-packages/torch/nn/modules/module.py\u001B[0m in \u001B[0;36m_call_impl\u001B[0;34m(self, *args, **kwargs)\u001B[0m\n\u001B[1;32m   1518\u001B[0m                 \u001B[0;32mor\u001B[0m \u001B[0m_global_backward_pre_hooks\u001B[0m \u001B[0;32mor\u001B[0m \u001B[0m_global_backward_hooks\u001B[0m\u001B[0;34m\u001B[0m\u001B[0;34m\u001B[0m\u001B[0m\n\u001B[1;32m   1519\u001B[0m                 or _global_forward_hooks or _global_forward_pre_hooks):\n\u001B[0;32m-> 1520\u001B[0;31m             \u001B[0;32mreturn\u001B[0m \u001B[0mforward_call\u001B[0m\u001B[0;34m(\u001B[0m\u001B[0;34m*\u001B[0m\u001B[0margs\u001B[0m\u001B[0;34m,\u001B[0m \u001B[0;34m**\u001B[0m\u001B[0mkwargs\u001B[0m\u001B[0;34m)\u001B[0m\u001B[0;34m\u001B[0m\u001B[0;34m\u001B[0m\u001B[0m\n\u001B[0m\u001B[1;32m   1521\u001B[0m \u001B[0;34m\u001B[0m\u001B[0m\n\u001B[1;32m   1522\u001B[0m         \u001B[0;32mtry\u001B[0m\u001B[0;34m:\u001B[0m\u001B[0;34m\u001B[0m\u001B[0;34m\u001B[0m\u001B[0m\n",
      "\u001B[0;32m/var/folders/x7/gwjk9h594mxb48nxl8w517sm0000gn/T/ipykernel_12003/521582982.py\u001B[0m in \u001B[0;36mforward\u001B[0;34m(self, x)\u001B[0m\n\u001B[1;32m     36\u001B[0m \u001B[0;34m\u001B[0m\u001B[0m\n\u001B[1;32m     37\u001B[0m     \u001B[0;32mdef\u001B[0m \u001B[0mforward\u001B[0m\u001B[0;34m(\u001B[0m\u001B[0mself\u001B[0m\u001B[0;34m,\u001B[0m \u001B[0mx\u001B[0m\u001B[0;34m)\u001B[0m\u001B[0;34m:\u001B[0m\u001B[0;34m\u001B[0m\u001B[0;34m\u001B[0m\u001B[0m\n\u001B[0;32m---> 38\u001B[0;31m         \u001B[0;32mreturn\u001B[0m \u001B[0mtorch\u001B[0m\u001B[0;34m.\u001B[0m\u001B[0mclamp\u001B[0m\u001B[0;34m(\u001B[0m\u001B[0mself\u001B[0m\u001B[0;34m.\u001B[0m\u001B[0mlayers\u001B[0m\u001B[0;34m(\u001B[0m\u001B[0mx\u001B[0m\u001B[0;34m)\u001B[0m\u001B[0;34m,\u001B[0m \u001B[0mmin\u001B[0m\u001B[0;34m=\u001B[0m\u001B[0;36m1\u001B[0m\u001B[0;34m,\u001B[0m \u001B[0mmax\u001B[0m\u001B[0;34m=\u001B[0m\u001B[0;36m100\u001B[0m\u001B[0;34m)\u001B[0m\u001B[0;34m\u001B[0m\u001B[0;34m\u001B[0m\u001B[0m\n\u001B[0m\u001B[1;32m     39\u001B[0m \u001B[0;34m\u001B[0m\u001B[0m\n\u001B[1;32m     40\u001B[0m \u001B[0;34m\u001B[0m\u001B[0m\n",
      "\u001B[0;32m~/opt/anaconda3/lib/python3.9/site-packages/torch/nn/modules/module.py\u001B[0m in \u001B[0;36m_wrapped_call_impl\u001B[0;34m(self, *args, **kwargs)\u001B[0m\n\u001B[1;32m   1509\u001B[0m             \u001B[0;32mreturn\u001B[0m \u001B[0mself\u001B[0m\u001B[0;34m.\u001B[0m\u001B[0m_compiled_call_impl\u001B[0m\u001B[0;34m(\u001B[0m\u001B[0;34m*\u001B[0m\u001B[0margs\u001B[0m\u001B[0;34m,\u001B[0m \u001B[0;34m**\u001B[0m\u001B[0mkwargs\u001B[0m\u001B[0;34m)\u001B[0m  \u001B[0;31m# type: ignore[misc]\u001B[0m\u001B[0;34m\u001B[0m\u001B[0;34m\u001B[0m\u001B[0m\n\u001B[1;32m   1510\u001B[0m         \u001B[0;32melse\u001B[0m\u001B[0;34m:\u001B[0m\u001B[0;34m\u001B[0m\u001B[0;34m\u001B[0m\u001B[0m\n\u001B[0;32m-> 1511\u001B[0;31m             \u001B[0;32mreturn\u001B[0m \u001B[0mself\u001B[0m\u001B[0;34m.\u001B[0m\u001B[0m_call_impl\u001B[0m\u001B[0;34m(\u001B[0m\u001B[0;34m*\u001B[0m\u001B[0margs\u001B[0m\u001B[0;34m,\u001B[0m \u001B[0;34m**\u001B[0m\u001B[0mkwargs\u001B[0m\u001B[0;34m)\u001B[0m\u001B[0;34m\u001B[0m\u001B[0;34m\u001B[0m\u001B[0m\n\u001B[0m\u001B[1;32m   1512\u001B[0m \u001B[0;34m\u001B[0m\u001B[0m\n\u001B[1;32m   1513\u001B[0m     \u001B[0;32mdef\u001B[0m \u001B[0m_call_impl\u001B[0m\u001B[0;34m(\u001B[0m\u001B[0mself\u001B[0m\u001B[0;34m,\u001B[0m \u001B[0;34m*\u001B[0m\u001B[0margs\u001B[0m\u001B[0;34m,\u001B[0m \u001B[0;34m**\u001B[0m\u001B[0mkwargs\u001B[0m\u001B[0;34m)\u001B[0m\u001B[0;34m:\u001B[0m\u001B[0;34m\u001B[0m\u001B[0;34m\u001B[0m\u001B[0m\n",
      "\u001B[0;32m~/opt/anaconda3/lib/python3.9/site-packages/torch/nn/modules/module.py\u001B[0m in \u001B[0;36m_call_impl\u001B[0;34m(self, *args, **kwargs)\u001B[0m\n\u001B[1;32m   1518\u001B[0m                 \u001B[0;32mor\u001B[0m \u001B[0m_global_backward_pre_hooks\u001B[0m \u001B[0;32mor\u001B[0m \u001B[0m_global_backward_hooks\u001B[0m\u001B[0;34m\u001B[0m\u001B[0;34m\u001B[0m\u001B[0m\n\u001B[1;32m   1519\u001B[0m                 or _global_forward_hooks or _global_forward_pre_hooks):\n\u001B[0;32m-> 1520\u001B[0;31m             \u001B[0;32mreturn\u001B[0m \u001B[0mforward_call\u001B[0m\u001B[0;34m(\u001B[0m\u001B[0;34m*\u001B[0m\u001B[0margs\u001B[0m\u001B[0;34m,\u001B[0m \u001B[0;34m**\u001B[0m\u001B[0mkwargs\u001B[0m\u001B[0;34m)\u001B[0m\u001B[0;34m\u001B[0m\u001B[0;34m\u001B[0m\u001B[0m\n\u001B[0m\u001B[1;32m   1521\u001B[0m \u001B[0;34m\u001B[0m\u001B[0m\n\u001B[1;32m   1522\u001B[0m         \u001B[0;32mtry\u001B[0m\u001B[0;34m:\u001B[0m\u001B[0;34m\u001B[0m\u001B[0;34m\u001B[0m\u001B[0m\n",
      "\u001B[0;32m~/opt/anaconda3/lib/python3.9/site-packages/torch/nn/modules/container.py\u001B[0m in \u001B[0;36mforward\u001B[0;34m(self, input)\u001B[0m\n\u001B[1;32m    215\u001B[0m     \u001B[0;32mdef\u001B[0m \u001B[0mforward\u001B[0m\u001B[0;34m(\u001B[0m\u001B[0mself\u001B[0m\u001B[0;34m,\u001B[0m \u001B[0minput\u001B[0m\u001B[0;34m)\u001B[0m\u001B[0;34m:\u001B[0m\u001B[0;34m\u001B[0m\u001B[0;34m\u001B[0m\u001B[0m\n\u001B[1;32m    216\u001B[0m         \u001B[0;32mfor\u001B[0m \u001B[0mmodule\u001B[0m \u001B[0;32min\u001B[0m \u001B[0mself\u001B[0m\u001B[0;34m:\u001B[0m\u001B[0;34m\u001B[0m\u001B[0;34m\u001B[0m\u001B[0m\n\u001B[0;32m--> 217\u001B[0;31m             \u001B[0minput\u001B[0m \u001B[0;34m=\u001B[0m \u001B[0mmodule\u001B[0m\u001B[0;34m(\u001B[0m\u001B[0minput\u001B[0m\u001B[0;34m)\u001B[0m\u001B[0;34m\u001B[0m\u001B[0;34m\u001B[0m\u001B[0m\n\u001B[0m\u001B[1;32m    218\u001B[0m         \u001B[0;32mreturn\u001B[0m \u001B[0minput\u001B[0m\u001B[0;34m\u001B[0m\u001B[0;34m\u001B[0m\u001B[0m\n\u001B[1;32m    219\u001B[0m \u001B[0;34m\u001B[0m\u001B[0m\n",
      "\u001B[0;32m~/opt/anaconda3/lib/python3.9/site-packages/torch/nn/modules/module.py\u001B[0m in \u001B[0;36m_wrapped_call_impl\u001B[0;34m(self, *args, **kwargs)\u001B[0m\n\u001B[1;32m   1509\u001B[0m             \u001B[0;32mreturn\u001B[0m \u001B[0mself\u001B[0m\u001B[0;34m.\u001B[0m\u001B[0m_compiled_call_impl\u001B[0m\u001B[0;34m(\u001B[0m\u001B[0;34m*\u001B[0m\u001B[0margs\u001B[0m\u001B[0;34m,\u001B[0m \u001B[0;34m**\u001B[0m\u001B[0mkwargs\u001B[0m\u001B[0;34m)\u001B[0m  \u001B[0;31m# type: ignore[misc]\u001B[0m\u001B[0;34m\u001B[0m\u001B[0;34m\u001B[0m\u001B[0m\n\u001B[1;32m   1510\u001B[0m         \u001B[0;32melse\u001B[0m\u001B[0;34m:\u001B[0m\u001B[0;34m\u001B[0m\u001B[0;34m\u001B[0m\u001B[0m\n\u001B[0;32m-> 1511\u001B[0;31m             \u001B[0;32mreturn\u001B[0m \u001B[0mself\u001B[0m\u001B[0;34m.\u001B[0m\u001B[0m_call_impl\u001B[0m\u001B[0;34m(\u001B[0m\u001B[0;34m*\u001B[0m\u001B[0margs\u001B[0m\u001B[0;34m,\u001B[0m \u001B[0;34m**\u001B[0m\u001B[0mkwargs\u001B[0m\u001B[0;34m)\u001B[0m\u001B[0;34m\u001B[0m\u001B[0;34m\u001B[0m\u001B[0m\n\u001B[0m\u001B[1;32m   1512\u001B[0m \u001B[0;34m\u001B[0m\u001B[0m\n\u001B[1;32m   1513\u001B[0m     \u001B[0;32mdef\u001B[0m \u001B[0m_call_impl\u001B[0m\u001B[0;34m(\u001B[0m\u001B[0mself\u001B[0m\u001B[0;34m,\u001B[0m \u001B[0;34m*\u001B[0m\u001B[0margs\u001B[0m\u001B[0;34m,\u001B[0m \u001B[0;34m**\u001B[0m\u001B[0mkwargs\u001B[0m\u001B[0;34m)\u001B[0m\u001B[0;34m:\u001B[0m\u001B[0;34m\u001B[0m\u001B[0;34m\u001B[0m\u001B[0m\n",
      "\u001B[0;32m~/opt/anaconda3/lib/python3.9/site-packages/torch/nn/modules/module.py\u001B[0m in \u001B[0;36m_call_impl\u001B[0;34m(self, *args, **kwargs)\u001B[0m\n\u001B[1;32m   1518\u001B[0m                 \u001B[0;32mor\u001B[0m \u001B[0m_global_backward_pre_hooks\u001B[0m \u001B[0;32mor\u001B[0m \u001B[0m_global_backward_hooks\u001B[0m\u001B[0;34m\u001B[0m\u001B[0;34m\u001B[0m\u001B[0m\n\u001B[1;32m   1519\u001B[0m                 or _global_forward_hooks or _global_forward_pre_hooks):\n\u001B[0;32m-> 1520\u001B[0;31m             \u001B[0;32mreturn\u001B[0m \u001B[0mforward_call\u001B[0m\u001B[0;34m(\u001B[0m\u001B[0;34m*\u001B[0m\u001B[0margs\u001B[0m\u001B[0;34m,\u001B[0m \u001B[0;34m**\u001B[0m\u001B[0mkwargs\u001B[0m\u001B[0;34m)\u001B[0m\u001B[0;34m\u001B[0m\u001B[0;34m\u001B[0m\u001B[0m\n\u001B[0m\u001B[1;32m   1521\u001B[0m \u001B[0;34m\u001B[0m\u001B[0m\n\u001B[1;32m   1522\u001B[0m         \u001B[0;32mtry\u001B[0m\u001B[0;34m:\u001B[0m\u001B[0;34m\u001B[0m\u001B[0;34m\u001B[0m\u001B[0m\n",
      "\u001B[0;32m~/opt/anaconda3/lib/python3.9/site-packages/torch/nn/modules/linear.py\u001B[0m in \u001B[0;36mforward\u001B[0;34m(self, input)\u001B[0m\n\u001B[1;32m    114\u001B[0m \u001B[0;34m\u001B[0m\u001B[0m\n\u001B[1;32m    115\u001B[0m     \u001B[0;32mdef\u001B[0m \u001B[0mforward\u001B[0m\u001B[0;34m(\u001B[0m\u001B[0mself\u001B[0m\u001B[0;34m,\u001B[0m \u001B[0minput\u001B[0m\u001B[0;34m:\u001B[0m \u001B[0mTensor\u001B[0m\u001B[0;34m)\u001B[0m \u001B[0;34m->\u001B[0m \u001B[0mTensor\u001B[0m\u001B[0;34m:\u001B[0m\u001B[0;34m\u001B[0m\u001B[0;34m\u001B[0m\u001B[0m\n\u001B[0;32m--> 116\u001B[0;31m         \u001B[0;32mreturn\u001B[0m \u001B[0mF\u001B[0m\u001B[0;34m.\u001B[0m\u001B[0mlinear\u001B[0m\u001B[0;34m(\u001B[0m\u001B[0minput\u001B[0m\u001B[0;34m,\u001B[0m \u001B[0mself\u001B[0m\u001B[0;34m.\u001B[0m\u001B[0mweight\u001B[0m\u001B[0;34m,\u001B[0m \u001B[0mself\u001B[0m\u001B[0;34m.\u001B[0m\u001B[0mbias\u001B[0m\u001B[0;34m)\u001B[0m\u001B[0;34m\u001B[0m\u001B[0;34m\u001B[0m\u001B[0m\n\u001B[0m\u001B[1;32m    117\u001B[0m \u001B[0;34m\u001B[0m\u001B[0m\n\u001B[1;32m    118\u001B[0m     \u001B[0;32mdef\u001B[0m \u001B[0mextra_repr\u001B[0m\u001B[0;34m(\u001B[0m\u001B[0mself\u001B[0m\u001B[0;34m)\u001B[0m \u001B[0;34m->\u001B[0m \u001B[0mstr\u001B[0m\u001B[0;34m:\u001B[0m\u001B[0;34m\u001B[0m\u001B[0;34m\u001B[0m\u001B[0m\n",
      "\u001B[0;31mTypeError\u001B[0m: linear(): argument 'input' (position 1) must be Tensor, not DataFrame"
     ]
    }
   ],
   "execution_count": 22
  },
  {
   "metadata": {
    "ExecuteTime": {
     "end_time": "2025-06-06T21:57:19.619910Z",
     "start_time": "2025-06-06T21:57:19.616955Z"
    }
   },
   "cell_type": "code",
   "source": "train_loader.sampler",
   "id": "60506f1fa7b77fe6",
   "outputs": [
    {
     "data": {
      "text/plain": [
       "<torch.utils.data.sampler.RandomSampler at 0x7feb903f7520>"
      ]
     },
     "execution_count": 26,
     "metadata": {},
     "output_type": "execute_result"
    }
   ],
   "execution_count": 26
  },
  {
   "metadata": {},
   "cell_type": "code",
   "outputs": [],
   "execution_count": null,
   "source": "",
   "id": "4bdc2e0259427e94"
  }
 ],
 "metadata": {},
 "nbformat": 4,
 "nbformat_minor": 5
}
