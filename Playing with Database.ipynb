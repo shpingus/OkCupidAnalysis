{
 "cells": [
  {
   "metadata": {},
   "cell_type": "code",
   "outputs": [],
   "execution_count": null,
   "source": [
    "import pandas as pd\n",
    "import numpy as np\n",
    "csv = pd.read_csv('data/user_data_public.csv', low_memory=False)"
   ],
   "id": "2fa8de1c39710ed0"
  },
  {
   "metadata": {},
   "cell_type": "code",
   "outputs": [],
   "execution_count": null,
   "source": [
    "filtered_df = csv.loc[:, ~csv.columns.str.match(r'^q\\d+')]\n",
    "print(filtered_df.columns.tolist())"
   ],
   "id": "c435323078f4c104"
  },
  {
   "metadata": {},
   "cell_type": "code",
   "outputs": [],
   "execution_count": null,
   "source": "f = filtered_df.d_country.value_counts().where(filtered_df.d_country.value_counts() > 100)\n",
   "id": "dc0ef9a5712ed6"
  },
  {
   "metadata": {},
   "cell_type": "markdown",
   "source": "## A Little Experiment - Checking bodytype v sexual orientation correlations in Men",
   "id": "69a9e17b3b592538"
  },
  {
   "metadata": {},
   "cell_type": "code",
   "outputs": [],
   "execution_count": null,
   "source": [
    "import numpy as np\n",
    "# Filtering NA\n",
    "bodytype_orientation = filtered_df[['d_bodytype', 'd_orientation', 'gender']].dropna()\n",
    "\n",
    "# Filtering men only\n",
    "bodytype_orientation = bodytype_orientation[(bodytype_orientation.gender == 'Man') & (bodytype_orientation.d_bodytype != 'Rather not say')].drop(columns=['gender'])\n",
    "\n",
    "bodytype_orientation.d_orientation.unique()\n",
    "# Distinguishing likely homosexual group from rest of men. Identified ['Gay', 'Gay, Queer', 'Gay, Sapiosexual'] as potential homosexual groups. Others  varied\n",
    "\n",
    "potential_homosexual_groups = ['Gay', 'Gay, Queer']\n",
    "# bodytype_orientation = bodytype_orientation[bodytype_orientation.d_orientation.isin(potential_homosexual_groups + ['Straight'])]\n",
    "\n",
    "# Create the new column with 'h' for homosexual and 'o' for others\n",
    "bodytype_orientation['d_orientation'] = np.where(\n",
    "    bodytype_orientation['d_orientation'].isin(potential_homosexual_groups),\n",
    "    'h',\n",
    "    'o'\n",
    ")\n",
    "bodytype_orientation.value_counts()"
   ],
   "id": "5121bbdc7819cf81"
  },
  {
   "metadata": {},
   "cell_type": "code",
   "outputs": [],
   "execution_count": null,
   "source": "(bodytype_orientation[bodytype_orientation.d_bodytype == 'Jacked'].d_orientation.value_counts() / bodytype_orientation.d_orientation.value_counts())",
   "id": "acab6f33d79a2e59"
  },
  {
   "metadata": {},
   "cell_type": "code",
   "outputs": [],
   "execution_count": null,
   "source": [
    "bodytype_orientation.d_orientation.value_counts()\n",
    "# bodytype_orientation[bodytype_orientation.d_bodytype == 'Overwight'].value_counts() / bodytype_orientation.d_orientation.value_counts()"
   ],
   "id": "99cf55e0608d385"
  },
  {
   "metadata": {},
   "cell_type": "markdown",
   "source": "## Mixed Matchmaking",
   "id": "91cdc2ee39d77fc7"
  },
  {
   "metadata": {},
   "cell_type": "code",
   "outputs": [],
   "execution_count": null,
   "source": "csv[csv.q71 == 'Yes'].race.value_counts() / csv[csv.q71.isin(['Yes', 'No'])].race.value_counts()",
   "id": "b617bacc8c1e3655"
  },
  {
   "metadata": {},
   "cell_type": "code",
   "outputs": [],
   "execution_count": null,
   "source": [
    "religions_csv = csv[['q71', 'd_religion_type', 'gender', 'race']].dropna(subset=['d_religion_type', 'q71'])\n",
    "religions_csv = religions_csv[religions_csv['d_religion_type'] != '-']\n",
    "religions_csv.d_religion_type.value_counts()"
   ],
   "id": "9811f45e47e923e5"
  },
  {
   "metadata": {},
   "cell_type": "code",
   "outputs": [],
   "execution_count": null,
   "source": "bad_idea_boolean = religions_csv.q71 == 'Yes'",
   "id": "581000e072e177ba"
  },
  {
   "metadata": {},
   "cell_type": "code",
   "outputs": [],
   "execution_count": null,
   "source": "religions_csv[bad_idea_boolean].d_religion_type.value_counts() / religions_csv.d_religion_type.value_counts()",
   "id": "bc3885eff2c12451"
  },
  {
   "metadata": {},
   "cell_type": "markdown",
   "source": "## Police/Coutnry Safety",
   "id": "b00b6f4a340fec86"
  },
  {
   "metadata": {},
   "cell_type": "code",
   "outputs": [],
   "execution_count": null,
   "source": [
    "# q6109\n",
    "safety = csv[['q6109', 'race', 'gender', 'd_country']].dropna(subset='q6109')"
   ],
   "id": "5ad466305e89ee61"
  },
  {
   "metadata": {},
   "cell_type": "code",
   "outputs": [],
   "execution_count": null,
   "source": "safety",
   "id": "a5fa6ae048558fc5"
  },
  {
   "metadata": {},
   "cell_type": "code",
   "outputs": [],
   "execution_count": null,
   "source": "",
   "id": "3e7d64be330c7739"
  }
 ],
 "metadata": {},
 "nbformat": 4,
 "nbformat_minor": 5
}
